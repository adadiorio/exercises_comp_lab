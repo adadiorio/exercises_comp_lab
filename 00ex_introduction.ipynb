{
 "cells": [
  {
   "cell_type": "markdown",
   "metadata": {},
   "source": [
    "1. The MickeyMouse problem\n",
    "\n",
    "a) Write a program that prints the numbers from 1 to 100. But for multiples of 3 print `Mickey` instead of the corresponding number and for the multiples of 5 print `Mouse`. For numbers which are multiples of both three and five print `MickeyMouse`\n",
    "\n",
    "b) Put the result in a tuple and substitute `Mickey` with `Donald` and `Mouse` with `Duck`"
   ]
  },
  {
   "cell_type": "code",
   "execution_count": 1,
   "metadata": {},
   "outputs": [
    {
     "data": {
      "text/plain": [
       "(1,\n",
       " 2,\n",
       " 'Donald',\n",
       " 3,\n",
       " 4,\n",
       " 'Duck',\n",
       " 5,\n",
       " 'Donald',\n",
       " 6,\n",
       " 7,\n",
       " 8,\n",
       " 'Donald',\n",
       " 9,\n",
       " 'Duck',\n",
       " 10,\n",
       " 11,\n",
       " 'Donald',\n",
       " 12,\n",
       " 13,\n",
       " 14,\n",
       " 'Donald',\n",
       " 'Duck',\n",
       " 'Donald',\n",
       " 16,\n",
       " 17,\n",
       " 'Donald',\n",
       " 18,\n",
       " 19,\n",
       " 'Duck',\n",
       " 20,\n",
       " 'Donald',\n",
       " 21,\n",
       " 22,\n",
       " 23,\n",
       " 'Donald',\n",
       " 24,\n",
       " 'Duck',\n",
       " 25,\n",
       " 26,\n",
       " 'Donald',\n",
       " 27,\n",
       " 28,\n",
       " 29,\n",
       " 'Donald',\n",
       " 'Duck',\n",
       " 'Donald',\n",
       " 31,\n",
       " 32,\n",
       " 'Donald',\n",
       " 33,\n",
       " 34,\n",
       " 'Duck',\n",
       " 35,\n",
       " 'Donald',\n",
       " 36,\n",
       " 37,\n",
       " 38,\n",
       " 'Donald',\n",
       " 39,\n",
       " 'Duck',\n",
       " 40,\n",
       " 41,\n",
       " 'Donald',\n",
       " 42,\n",
       " 43,\n",
       " 44,\n",
       " 'Donald',\n",
       " 'Duck',\n",
       " 'Donald',\n",
       " 46,\n",
       " 47,\n",
       " 'Donald',\n",
       " 48,\n",
       " 49,\n",
       " 'Duck',\n",
       " 50,\n",
       " 'Donald',\n",
       " 51,\n",
       " 52,\n",
       " 53,\n",
       " 'Donald',\n",
       " 54,\n",
       " 'Duck',\n",
       " 55,\n",
       " 56,\n",
       " 'Donald',\n",
       " 57,\n",
       " 58,\n",
       " 59,\n",
       " 'Donald',\n",
       " 'Duck',\n",
       " 'Donald',\n",
       " 61,\n",
       " 62,\n",
       " 'Donald',\n",
       " 63,\n",
       " 64,\n",
       " 'Duck',\n",
       " 65,\n",
       " 'Donald',\n",
       " 66,\n",
       " 67,\n",
       " 68,\n",
       " 'Donald',\n",
       " 69,\n",
       " 'Duck',\n",
       " 70,\n",
       " 71,\n",
       " 'Donald',\n",
       " 72,\n",
       " 73,\n",
       " 74,\n",
       " 'Donald',\n",
       " 'Duck',\n",
       " 'Donald',\n",
       " 76,\n",
       " 77,\n",
       " 'Donald',\n",
       " 78,\n",
       " 79,\n",
       " 'Duck',\n",
       " 80,\n",
       " 'Donald',\n",
       " 81,\n",
       " 82,\n",
       " 83,\n",
       " 'Donald',\n",
       " 84,\n",
       " 'Duck',\n",
       " 85,\n",
       " 86,\n",
       " 'Donald',\n",
       " 87,\n",
       " 88,\n",
       " 89,\n",
       " 'Donald',\n",
       " 'Duck',\n",
       " 'Donald',\n",
       " 91,\n",
       " 92,\n",
       " 'Donald',\n",
       " 93,\n",
       " 94,\n",
       " 'Duck',\n",
       " 95,\n",
       " 'Donald',\n",
       " 96,\n",
       " 97,\n",
       " 98,\n",
       " 'Donald',\n",
       " 99,\n",
       " 'Duck',\n",
       " 100)"
      ]
     },
     "execution_count": 1,
     "metadata": {},
     "output_type": "execute_result"
    }
   ],
   "source": [
    "#doing only the second part\n",
    "t = ()\n",
    "for i in range(1, 101):\n",
    "    if i %3 == 0:\n",
    "        t += ('Mickey',)\n",
    "    if i %5 == 0:\n",
    "        t += ('Mouse',)\n",
    "    if i %3 == 0 and i%5 == 0:\n",
    "        t+= ('Mickey Mouse',)\n",
    "    else:\n",
    "        t+= (i,)\n",
    "t\n",
    "t_chng = tuple('Donald' if 'Mickey' in str(x) else 'Duck' if 'Mouse' in str(x) else x for x in t)\n",
    "t_chng"
   ]
  },
  {
   "cell_type": "markdown",
   "metadata": {},
   "source": [
    "2\\. The swap function\n",
    "\n",
    "Write a function that swap the values of two input variables x and y (whatever the type). Try to do that also without a temporary variable"
   ]
  },
  {
   "cell_type": "code",
   "execution_count": 2,
   "metadata": {},
   "outputs": [
    {
     "name": "stdout",
     "output_type": "stream",
     "text": [
      "x =  6 , y = 4\n"
     ]
    }
   ],
   "source": [
    "def func(x, y):\n",
    "    return y, x\n",
    "\n",
    "x  = 4\n",
    "y = 6\n",
    "x, y = func(x, y)\n",
    "print('x = ', x, ', y =', y)"
   ]
  },
  {
   "cell_type": "markdown",
   "metadata": {},
   "source": [
    "3\\. Computing the distance\n",
    "\n",
    "Write a function that calculates and returns the euclidean distance between two points *u* and *v*, where *u* and *v* are both 2-tuples *(x,y)*. For example, if *u=(3,0)* and *v=(0,4)*, the function should return 5"
   ]
  },
  {
   "cell_type": "code",
   "execution_count": 3,
   "metadata": {},
   "outputs": [
    {
     "name": "stdout",
     "output_type": "stream",
     "text": [
      "Distance is:  5.0\n"
     ]
    }
   ],
   "source": [
    "import numpy as np \n",
    "def dist(u, v):\n",
    "    summ = 0\n",
    "    for ui, vi in zip(u, v):\n",
    "        summ += ui ** 2 + vi**2\n",
    "    return np.sqrt(summ)\n",
    "      \n",
    "u = (3, 0)\n",
    "v = (0, 4)\n",
    "\n",
    "print(\"Distance is: \", dist(u, v))"
   ]
  },
  {
   "cell_type": "markdown",
   "metadata": {},
   "source": [
    "4\\. Counting letters\n",
    "\n",
    "Write a program to calculate the number of times each character occurs in a given string *s*. Ignore differneces in capitalization"
   ]
  },
  {
   "cell_type": "code",
   "execution_count": 41,
   "metadata": {},
   "outputs": [
    {
     "name": "stdout",
     "output_type": "stream",
     "text": [
      "{'a': 7, 'b': 5, 'c': 3, 'd': 3, 'e': 22, 'f': 10, 'g': 1, 'h': 9, 'i': 14, 'j': 0, 'k': 2, 'l': 6, 'm': 12, 'n': 10, 'o': 13, 'p': 8, 'q': 0, 'r': 17, 's': 9, 't': 19, 'u': 9, 'v': 2, 'w': 2, 'x': 0, 'y': 2, 'z': 0, ' ': 41, '\\\\': 0, '.': 2, '0': 2, '1': 2, '2': 0, '3': 0, '4': 0, '5': 0, '6': 0, '7': 0, '8': 0, '9': 0}\n"
     ]
    }
   ],
   "source": [
    "line = \"Write a program that prints the numbers from 1 to 100. \\\n",
    "But for multiples of three print Mickey instead of the number and for the multiples of five print Mouse. \\\n",
    "For numbers which are multiples of both three and five print MickeyMouse\"\n",
    "abc  ='abcdefghijklmnopqrstuvwxyz \\.'\n",
    "num = '0123456789'\n",
    "\n",
    "D = {}\n",
    "line = line.lower()\n",
    "\n",
    "for j in abc:\n",
    "    D[str(j)] = 0\n",
    "for k in num:\n",
    "    D[str(k)] = 0\n",
    "\n",
    "for i in line:\n",
    "    D[str(i)] += 1\n",
    "        \n",
    "print(D)\n",
    "    "
   ]
  },
  {
   "cell_type": "code",
   "execution_count": 18,
   "metadata": {},
   "outputs": [],
   "source": [
    "s=\"Write a program that prints the numbers from 1 to 100. \\\n",
    "But for multiples of three print Mickey instead of the number and for the multiples of five print Mouse. \\\n",
    "For numbers which are multiples of both three and five print MickeyMouse\""
   ]
  },
  {
   "cell_type": "markdown",
   "metadata": {},
   "source": [
    "5\\. Isolating the unique\n",
    "\n",
    "Write a function that determines and count the unique numbers in the list *l*"
   ]
  },
  {
   "cell_type": "code",
   "execution_count": 44,
   "metadata": {},
   "outputs": [],
   "source": [
    "l = [36, 45, 58, 3, 74, 96, 64, 45, 31, 10, 24, 19, 33, 86, 99, 18, 63, 70, 85,\n",
    " 85, 63, 47, 56, 42, 70, 84, 88, 55, 20, 54, 8, 56, 51, 79, 81, 57, 37, 91,\n",
    " 1, 84, 84, 36, 66, 9, 89, 50, 42, 91, 50, 95, 90, 98, 39, 16, 82, 31, 92, 41,\n",
    " 45, 30, 66, 70, 34, 85, 94, 5, 3, 36, 72, 91, 84, 34, 87, 75, 53, 51, 20, 89, 51, 20]"
   ]
  },
  {
   "cell_type": "code",
   "execution_count": 78,
   "metadata": {},
   "outputs": [
    {
     "name": "stdout",
     "output_type": "stream",
     "text": [
      "54 37\n"
     ]
    }
   ],
   "source": [
    "\n",
    "counter = 0\n",
    "for i in range(len(l)):\n",
    "    summ = 0\n",
    "    for j in range(len(l)):\n",
    "        \n",
    "        #if i == j:\n",
    "         #   None\n",
    "        \n",
    "        \n",
    "        if l[i] == l[j]:\n",
    "            None\n",
    "        \n",
    "        elif l[i] != l[j]:\n",
    "            summ += 1\n",
    "    \n",
    "    if summ == len(l) - 1:\n",
    "        counter += 1\n",
    "\n",
    "\n",
    "unique_numbers = set(l)\n",
    "\n",
    "# Calculate the number of unique numbers\n",
    "num_unique_numbers = len(unique_numbers)\n",
    "print(num_unique_numbers, counter)"
   ]
  },
  {
   "cell_type": "markdown",
   "metadata": {},
   "source": [
    "6\\. Combination of functions\n",
    "\n",
    "Write two functions - one that returns the square of a number, and one that returns the cube. Now write a third function that returns the number raised to the 6th power using the two previous functions."
   ]
  },
  {
   "cell_type": "code",
   "execution_count": 79,
   "metadata": {},
   "outputs": [
    {
     "data": {
      "text/plain": [
       "32"
      ]
     },
     "execution_count": 79,
     "metadata": {},
     "output_type": "execute_result"
    }
   ],
   "source": [
    "def square(x):\n",
    "    return x** 2\n",
    "\n",
    "def cube(x):\n",
    "    return x**3\n",
    "\n",
    "def sisxth(x):\n",
    "    return square(x) * cube(x)\n",
    "\n",
    "sisxth(2)"
   ]
  },
  {
   "cell_type": "markdown",
   "metadata": {},
   "source": [
    "7\\. Cubes\n",
    "\n",
    "Create a list of the cubes of x for x in *[0, 10]* using:\n",
    "\n",
    "a) a for loop\n",
    "\n",
    "b) a list comprehension"
   ]
  },
  {
   "cell_type": "code",
   "execution_count": 84,
   "metadata": {},
   "outputs": [
    {
     "name": "stdout",
     "output_type": "stream",
     "text": [
      "[ 0  1  2  3  4  5  6  7  8  9 10]\n",
      "[0, 1, 2, 3, 4, 5, 6, 7, 8, 9, 10]\n",
      "[0, 1, 2, 3, 4, 5, 6, 7, 8, 9, 10]\n"
     ]
    }
   ],
   "source": [
    "x = np.arange(0, 11)\n",
    "print(x)\n",
    "L = []\n",
    "for i in range(11):\n",
    "    L.append(i)\n",
    "print(L)\n",
    "M = [i for i in range(11)]\n",
    "print(M)"
   ]
  },
  {
   "cell_type": "markdown",
   "metadata": {},
   "source": [
    "8\\. Nested list comprehension\n",
    "\n",
    "A Pythagorean triple is an integer solution to the Pythagorean theorem $a^2+b^2=c^2$. The first Pythagorean triple is (3,4,5). Find and put in a tuple all unique Pythagorean triples for the positive integers a, b and c less than 100."
   ]
  },
  {
   "cell_type": "code",
   "execution_count": 99,
   "metadata": {},
   "outputs": [
    {
     "name": "stdout",
     "output_type": "stream",
     "text": [
      "[(3, 4, 5), (4, 3, 5), (5, 12, 13), (6, 8, 10), (7, 24, 25), (8, 6, 10), (8, 15, 17), (9, 12, 15), (9, 40, 41), (10, 24, 26), (11, 60, 61), (12, 5, 13), (12, 9, 15), (12, 16, 20), (12, 35, 37), (13, 84, 85), (14, 48, 50), (15, 8, 17), (15, 20, 25), (15, 36, 39), (16, 12, 20), (16, 30, 34), (16, 63, 65), (18, 24, 30), (18, 80, 82), (20, 15, 25), (20, 21, 29), (20, 48, 52), (21, 20, 29), (21, 28, 35), (21, 72, 75), (24, 7, 25), (24, 10, 26), (24, 18, 30), (24, 32, 40), (24, 45, 51), (24, 70, 74), (25, 60, 65), (27, 36, 45), (28, 21, 35), (28, 45, 53), (30, 16, 34), (30, 40, 50), (30, 72, 78), (32, 24, 40), (32, 60, 68), (33, 44, 55), (33, 56, 65), (35, 12, 37), (35, 84, 91), (36, 15, 39), (36, 27, 45), (36, 48, 60), (36, 77, 85), (39, 52, 65), (39, 80, 89), (40, 9, 41), (40, 30, 50), (40, 42, 58), (40, 75, 85), (42, 40, 58), (42, 56, 70), (44, 33, 55), (45, 24, 51), (45, 28, 53), (45, 60, 75), (48, 14, 50), (48, 20, 52), (48, 36, 60), (48, 55, 73), (48, 64, 80), (51, 68, 85), (52, 39, 65), (54, 72, 90), (55, 48, 73), (56, 33, 65), (56, 42, 70), (57, 76, 95), (60, 11, 61), (60, 25, 65), (60, 32, 68), (60, 45, 75), (60, 63, 87), (63, 16, 65), (63, 60, 87), (64, 48, 80), (65, 72, 97), (68, 51, 85), (70, 24, 74), (72, 21, 75), (72, 30, 78), (72, 54, 90), (72, 65, 97), (75, 40, 85), (76, 57, 95), (77, 36, 85), (80, 18, 82), (80, 39, 89), (84, 13, 85), (84, 35, 91)]\n"
     ]
    }
   ],
   "source": [
    "def ispyth(a, b, c):\n",
    "    if a** 2+ b**2 == c**2 :\n",
    "        return True\n",
    "    else:\n",
    "        return False\n",
    "R = 100\n",
    "count = 0\n",
    "for a in range(1, R):\n",
    "    for b in range(1, R):\n",
    "        for c in range(1, R):\n",
    "            if ispyth(a, b, c) == True:\n",
    "                count += 1\n",
    "                #print(a, b, c)\n",
    "\n",
    "L = [(a, b, c) for a in range(1, R) for b in range(1, R) for c in range(1, R) if ispyth(a, b, c) == True]\n",
    "print(L)"
   ]
  },
  {
   "cell_type": "markdown",
   "metadata": {},
   "source": [
    "9\\. Normalization\n",
    "\n",
    "Write a function that takes a tuple of numbers and returns it with the entries normalized to one"
   ]
  },
  {
   "cell_type": "code",
   "execution_count": 107,
   "metadata": {},
   "outputs": [
    {
     "name": "stdout",
     "output_type": "stream",
     "text": [
      "(0.4444444444444444, 0.5555555555555556)\n"
     ]
    }
   ],
   "source": [
    "def normalization(t):\n",
    "    summ = sum(t)\n",
    "    s = ()\n",
    "    for j in t:\n",
    "        s += (j/summ,)\n",
    "    return s\n",
    "print(normalization((4,5)))"
   ]
  },
  {
   "cell_type": "code",
   "execution_count": null,
   "metadata": {},
   "outputs": [],
   "source": []
  }
 ],
 "metadata": {
  "kernelspec": {
   "display_name": "Python 3 (ipykernel)",
   "language": "python",
   "name": "python3"
  },
  "language_info": {
   "codemirror_mode": {
    "name": "ipython",
    "version": 3
   },
   "file_extension": ".py",
   "mimetype": "text/x-python",
   "name": "python",
   "nbconvert_exporter": "python",
   "pygments_lexer": "ipython3",
   "version": "3.10.9"
  }
 },
 "nbformat": 4,
 "nbformat_minor": 2
}
