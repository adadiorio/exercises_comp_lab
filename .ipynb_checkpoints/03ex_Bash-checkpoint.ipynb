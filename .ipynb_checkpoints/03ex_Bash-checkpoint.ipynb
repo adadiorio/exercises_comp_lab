{
 "cells": [
  {
   "cell_type": "markdown",
   "id": "b5746bd0",
   "metadata": {},
   "source": [
    "The following exercises are meant to be solved by gathering the bash commands incrimentally in two scripts, one for ex 1.* the other for ex 2.* "
   ]
  },
  {
   "cell_type": "markdown",
   "id": "4e60de78",
   "metadata": {},
   "source": [
    "### Ex 1"
   ]
  },
  {
   "cell_type": "markdown",
   "id": "6759df36",
   "metadata": {},
   "source": [
    "1\\.a Make a new directory called `students` in your home. Download a csv file with the list of students of this lab from [here](https://www.dropbox.com/s/867rtx3az6e9gm8/LCP_22-23_students.csv) (use the `wget` command) and copy that to `students`. First check whether the file is already there"
   ]
  },
  {
   "cell_type": "code",
   "execution_count": 1,
   "id": "1e8f9058",
   "metadata": {},
   "outputs": [
    {
     "name": "stdout",
     "output_type": "stream",
     "text": [
      "/home/adadiorio\n"
     ]
    },
    {
     "name": "stderr",
     "output_type": "stream",
     "text": [
      "mkdir: cannot create directory ‘students2’: File exists\n",
      "--2024-01-17 15:32:17--  https://www.dropbox.com/s/867rtx3az6e9gm8/LCP_22-23_students.csv\n",
      "Resolving www.dropbox.com (www.dropbox.com)... 162.125.69.18, 198.51.44.6, 198.51.45.6, ...\n",
      "Connecting to www.dropbox.com (www.dropbox.com)|162.125.69.18|:443... connected.\n",
      "HTTP request sent, awaiting response... 302 Found\n",
      "Location: /s/raw/867rtx3az6e9gm8/LCP_22-23_students.csv [following]\n",
      "--2024-01-17 15:32:17--  https://www.dropbox.com/s/raw/867rtx3az6e9gm8/LCP_22-23_students.csv\n",
      "Reusing existing connection to www.dropbox.com:443.\n",
      "HTTP request sent, awaiting response... 302 Found\n",
      "Location: https://ucd5bc2f5d8188b03a695bc2b80f.dl.dropboxusercontent.com/cd/0/inline/CLhCEHKbF5Q4G9Z-hinR-AEhhXZupbM6D-lAmYrbNgei7zp7RLdyFGDC77mzX4FcVqD_ogS19gCxztTB2M6j99v5ZYaNBi3HI4-WYWD0YtYqSZXtK8gAnMZpM1MEVy4dNIE/file# [following]\n",
      "--2024-01-17 15:32:18--  https://ucd5bc2f5d8188b03a695bc2b80f.dl.dropboxusercontent.com/cd/0/inline/CLhCEHKbF5Q4G9Z-hinR-AEhhXZupbM6D-lAmYrbNgei7zp7RLdyFGDC77mzX4FcVqD_ogS19gCxztTB2M6j99v5ZYaNBi3HI4-WYWD0YtYqSZXtK8gAnMZpM1MEVy4dNIE/file\n",
      "Resolving ucd5bc2f5d8188b03a695bc2b80f.dl.dropboxusercontent.com (ucd5bc2f5d8188b03a695bc2b80f.dl.dropboxusercontent.com)... 162.125.69.15, 198.51.44.6, 198.51.45.6, ...\n",
      "Connecting to ucd5bc2f5d8188b03a695bc2b80f.dl.dropboxusercontent.com (ucd5bc2f5d8188b03a695bc2b80f.dl.dropboxusercontent.com)|162.125.69.15|:443... connected.\n",
      "HTTP request sent, awaiting response... 200 OK\n",
      "Length: 4405 (4.3K) [text/plain]\n",
      "Saving to: ‘LCP_22-23_students.csv’\n",
      "\n",
      "     0K ....                                                  100%  139M=0s\n",
      "\n",
      "2024-01-17 15:32:18 (139 MB/s) - ‘LCP_22-23_students.csv’ saved [4405/4405]\n",
      "\n"
     ]
    },
    {
     "name": "stdout",
     "output_type": "stream",
     "text": [
      "LCP_22-23_students.csv\n",
      "WIN32-VC17.7.6-10.zip:SmartScreen\n",
      "WIN32-VC17.7.6-10.zip:Zone.Identifier\n",
      "data.txt\n",
      "data_divided_by_1.txt\n",
      "data_divided_by_2.txt\n",
      "data_divided_by_3.txt\n",
      "data_divided_by_4.txt\n",
      "data_divided_by_5.txt\n",
      "divide_data.sh\n",
      "file.txt\n",
      "geant4-v11.2.0\n",
      "new_script\n",
      "new_students\n",
      "prova\n",
      "script_prova\n",
      "students\n",
      "students2\n"
     ]
    }
   ],
   "source": [
    "%%bash \n",
    "cd\n",
    "pwd\n",
    "mkdir students2\n",
    "wget https://www.dropbox.com/s/867rtx3az6e9gm8/LCP_22-23_students.csv\n",
    "ls\n",
    "cp LCP_22-23_students.csv /home/adadiorio/students2/"
   ]
  },
  {
   "cell_type": "code",
   "execution_count": 2,
   "id": "fbb365f2",
   "metadata": {},
   "outputs": [
    {
     "name": "stdout",
     "output_type": "stream",
     "text": [
      "LCP_22-23_students.csv\n",
      "Physics_students\n",
      "PoD_students\n",
      "group_0_to_.csv\n",
      "group_20_to_36.csv\n",
      "group_2_to_18.csv\n",
      "group_38_to_54.csv\n",
      "group_56_to_72.csv\n"
     ]
    }
   ],
   "source": [
    "%%bash\n",
    "cd\n",
    "ls students2"
   ]
  },
  {
   "cell_type": "markdown",
   "id": "798c0c9d",
   "metadata": {},
   "source": [
    "1\\.b Make two new files, one containing the students belonging to PoD, the other to Physics."
   ]
  },
  {
   "cell_type": "code",
   "execution_count": 3,
   "id": "48380a0a",
   "metadata": {},
   "outputs": [
    {
     "name": "stdout",
     "output_type": "stream",
     "text": [
      "Family name(s),Given name(s),E-mail,Master program\n",
      "Akkara,Jelin Raphael,jelinraphael.akkara@studenti.unipd.it,PoD\n",
      "Altamirano,Davide,davidalejandro.altamiranocoello@studenti.unipd.it,PoD\n",
      "Badami,Hessan,mohammadhessan.badami@studenti.unipd.it,PoD\n",
      "Baghaei Saryazdi,Fateme,fateme.baghaeisaryazdi@studenti.unipd.it,PoD\n",
      "Barbiero,Lorenzo,lorenzo.barbiero.1@studenti.unipd.it,PoD\n",
      "Bedin,Veronica,veronica.bedin.1@studenti.unipd.it,PoD\n",
      "Benito,Guillermo,guillermo.benitocalvino@studenti.unipd.it,PoD\n",
      "Bertininelli,Gabriele,gabriele.bertinelli@studenti.unipd.it,PoD\n",
      "Bertola,Tommaso,tommaso.bertola@studenti.unipd.it,PoD\n",
      "Bhatti,Roben,roben.bhatti@studenti.unipd.it,PoD\n",
      "Bonato,Diego,diego.bonato.1@studenti.unipd.it,PoD\n",
      "Bordin,Guglielmo,guglielmo.bordin@studenti.unipd.it,PoD\n",
      "Breccia,Alessandro,alessandro.breccia@studenti.unipd.it,PoD\n",
      "Brisigotti,Erica,10698739@unipd.it / ericabrisigotti@gmail.com,PoD\n",
      "Bucalo,Edoardo,edoardorenato.bucalo@studenti.unipd.it,Physics\n",
      "Checchia,Davide,davide.checchia@studenti.unipd.it,PoD\n",
      "Chiloiro,Marco,marco.chiloiro@studenti.unipd.it,PoD\n",
      "Chueva,Ekaterina ,ekaterina.chueva@studenti.unipd.it,PoD\n",
      "Dall'Ara ,Marco ,marco.dallara.1@studenti.unipd.it,PoD\n",
      "Davide,Bacilieri,davide.bacilieri@studenti.unipd.it,PoD\n",
      "De Vita,Andrea,andrea.devita.1@studenti.unipd.it,PoD\n",
      "Di Prima,Giacomo,giacomo.diprima@studenti.unipd.it,PoD\n",
      "Divari,Carlo,carlo.divari@studenti.unipd.it,PoD\n",
      "Dodampe Gamage,Eran,erankawinda.dodampegamage@studenti.unipd.it,PoD\n",
      "Eslami shafigh,Ehsan,ehsan.eslamishafigh@studenti.unipd.it,PoD\n",
      "Fedon Vocaturo,Marina,marina.fedonvocaturo@studenti.unipd.it,Physics\n",
      "Feltrin,Antonio,antonio.feltrin@studenti.unipd.it,PoD\n",
      "Forza,Camilla,camilla.forza@studenti.unipd.it,Physics\n",
      "Garbo ,Anna,anna.garbo.2@studenti.unipd.it,PoD\n",
      "Ghaemifar,Sepideh,sepideh.ghaemifar@studenti.unipd.it,PoD\n",
      "Golan,Rodrigo,rodrigo.golan@studenti.unipd.it,PoD\n",
      "Guercio,Tommaso,tommaso.guercio@studenti.unipd.it,PoD\n",
      "Hatamjahromi,Roozbeh,Roozbeh.hatam1377@gmail.com  /   10675931@unipd.it,PoD\n",
      "Isotton,Gloria,gloria.isotton@studenti.unipd.it,PoD\n",
      "Javid,Kiamehr,kiamehr.javid@studenti.unipd.it,PoD\n",
      "Kumar,Prince,prince.kumar@studenti.unipd.it,PoD\n",
      "La Delfa ,Niccolò ,niccolo.ladelfa@studenti.unipd.it,PoD\n",
      "Lui,Riccardo ,riccardo.lui@studenti.unipd.it,PoD\n",
      "Lupi,Enrico,enrico.lupi@studenti.unipd.it,PoD\n",
      "Marchetti,Andrea,andrea.marchetti.5@studenti.unipd.it,PoD\n",
      "Mengoni,Leon,leon.mengoni@studenti.unipd.it,PoD\n",
      "Menti,Luca,luca.menti@studenti.unipd.it,PoD\n",
      "Merlin,Giovanni,giovanni.merlin@studenti.unipd.it,PoD\n",
      "Meza,Stefano,stefanorafael.mezaanzules@studenti.unipd.it,PoD\n",
      "Miranda,Manfredi,manfredi.miranda@studenti.unipd.it,PoD\n",
      "Munafò,Sara,sara.munafo@studenti.unipd.it,PoD\n",
      "Pacheco,Sofia,sofia.pachecogarcia@studenti.unipd.it,PoD\n",
      "Panagiotakis,Konstantinos,konstantinos.panagiotakis@studenti.unipd.it,POD\n",
      "Pasian,Francisco,franciscoariel.pasian@studenti.unipd.it,PoD\n",
      "Peter,Maximilian,10705165@unipd.it / soon: maximilian.peter@studenti.unipd.it,PoD\n",
      "Pitteri,Alessio,alessio.pitteri@studenti.unipd.it,PoD\n",
      "Pra Floriani,Filippo,filippo.prafloriani@studenti.unipd.it,PoD\n",
      "Rostami,Amirhossein,amirhossein.rostami@studenti.unipd.it,PoD\n",
      "Ruffini,Federico,federico.ruffini.1@studenti.unipd.it,Physics\n",
      "Saccomani,Alessio,alessio.saccomani@studenti.unipd.it,PoD\n",
      "Sahputra,Nadillia,nadillia.sahputra@studenti.unipd.it,PoD\n",
      "Sapkas,Michail,michail.sapkas@studenti.unipd.it,PoD\n",
      "Saran Gattorno,Giancarlo,giancarlo.sarangattorno@studenti.unipd.it,PoD\n",
      "Sardo Infirri,Giosuè,giosue.sardoinfirri@studenti.unipd.it,PoD\n",
      "Saretto,Saretto,alberto.saretto.1@studenti.unipd.it,Physics\n",
      "Sarte,Emanuele,emanuele.sarte@studenti.unipd.it,PoD\n",
      "Tancredi ,Riccardo ,riccardo.tancredi@studenti.unipd.it,PoD\n",
      "Toso,Simone,simone.toso.2@studenti.unipd.it,PoD\n",
      "Vatankhahan,Mahdy,mahdy.vatankhahan@studenti.unipd.it,PoD\n",
      "Verguizas I Moliner,Joan,joan.verguizasimoliner@studenti.unipd.it,PoD\n",
      "Viterbo,Giuseppe,giuseppe.viterbo@studenti.unipd.it,PoD\n",
      "Waththe Liyanage,Wageesha Widuranga,wageeshawiduranga.waththeliyanage@studenti.unipd.it,PoD\n",
      "Wickramasinghe Mudiyanselage,Poornima Amali Wickramasinghe,poornimaamaliwickramasinghe.wickramasinghemudiyanselage@studenti.unipd.it,PoD\n",
      "Zago,Giovanni,giovanni.zago.2@studenti.unipd.it,PoD\n",
      "Zal,Abbas,abbas.zal@studenti.unipd.it,PoD\n",
      "Zane,Francesco,francesco.zane.1@studenti.unipd.it,PoD\n",
      "Zenari,Marco,marco.zenari@studenti.unipd.it,PoD\n",
      "Zhang,Qiqi,qiqi.zhang@studenti.unipd.it,PoDLCP_22-23_students.csv\n",
      "Physics_students\n",
      "PoD_students\n",
      "group_0_to_.csv\n",
      "group_20_to_36.csv\n",
      "group_2_to_18.csv\n",
      "group_38_to_54.csv\n",
      "group_56_to_72.csv\n"
     ]
    }
   ],
   "source": [
    "%%bash \n",
    "cd \n",
    "cd students2\n",
    "cat LCP_22-23_students.csv\n",
    "grep 'PoD' LCP_22-23_students.csv > PoD_students\n",
    "grep 'Physics' LCP_22-23_students.csv > Physics_students\n",
    "ls"
   ]
  },
  {
   "cell_type": "markdown",
   "id": "8a43d622",
   "metadata": {},
   "source": [
    "1\\.c For each letter of the alphabet, count the number of students whose surname starts with that letter. "
   ]
  },
  {
   "cell_type": "code",
   "execution_count": 4,
   "id": "8cd30218",
   "metadata": {},
   "outputs": [
    {
     "name": "stdout",
     "output_type": "stream",
     "text": [
      "LCP_22-23_students.csv\n",
      "Physics_students\n",
      "PoD_students\n",
      "group_0_to_.csv\n"
     ]
    },
    {
     "name": "stderr",
     "output_type": "stream",
     "text": [
      "-bash: line 4: column_number: command not found\n"
     ]
    },
    {
     "name": "stdout",
     "output_type": "stream",
     "text": [
      "      2 a\n",
      "     13 b\n",
      "      3 c\n",
      "      6 d\n",
      "      1 e\n",
      "      4 f\n",
      "      4 g\n",
      "      1 h\n",
      "      1 i\n",
      "      1 j\n",
      "      1 k\n",
      "      3 l\n",
      "      7 m\n",
      "      6 p\n",
      "      2 r\n",
      "      7 s\n",
      "      2 t\n",
      "      3 v\n",
      "      2 w\n",
      "      5 z\n"
     ]
    }
   ],
   "source": [
    "%%bash \n",
    "cd \n",
    "cd students2\n",
    "ls\n",
    "column_number = 1\n",
    "\n",
    "awk -F, '{print substr($'column_number', 1, 1)}' LCP_22-23_students.csv | tr '[:upper:]' '[:lower:]' | grep -o '[a-z]' | sort | uniq -c\n"
   ]
  },
  {
   "cell_type": "markdown",
   "id": "4ba6bc90",
   "metadata": {},
   "source": [
    "1\\.d Find out which is the letter with most counts."
   ]
  },
  {
   "cell_type": "markdown",
   "id": "086a043c",
   "metadata": {},
   "source": [
    "1\\.e Assume an obvious numbering of the students in the file (first line is 1, second line is 2, etc.), group students \"modulo 18\", i.e. 1,19,37,.. 2,20,38,.. etc. and put each group in a separate file  "
   ]
  },
  {
   "cell_type": "code",
   "execution_count": 1,
   "id": "e262173d",
   "metadata": {},
   "outputs": [
    {
     "name": "stdout",
     "output_type": "stream",
     "text": [
      "/home/adadiorio/students2\n",
      "LCP_22-23_students.csv\n",
      "Physics_students\n",
      "PoD_students\n",
      "group_0_to_.csv\n"
     ]
    }
   ],
   "source": [
    "%%bash \n",
    "cd \n",
    "cd students2\n",
    "pwd\n",
    "ls\n",
    "\n",
    "start_number=1\n",
    "group_size=18\n",
    "\n",
    "total_lines=$(wc -l < LCP_22-23_students.csv)\n",
    "\n",
    "for (( i=$start_number+1; i<=$total_lines; i+=$group_size )); do\n",
    "    end=$(( i + group_size - 2 ))\n",
    "    sed -n \"${i},${end}p\" LCP_22-23_students.csv > group_${i}_to_${end}.csv\n",
    "done\n",
    "\n",
    "#ha una sintassi troppo complicata è un casino cercare di impararlo "
   ]
  },
  {
   "cell_type": "code",
   "execution_count": null,
   "id": "1b7e5a93",
   "metadata": {},
   "outputs": [],
   "source": []
  },
  {
   "cell_type": "markdown",
   "id": "1d730d21",
   "metadata": {},
   "source": [
    "### Ex 2"
   ]
  },
  {
   "cell_type": "markdown",
   "id": "4b87ecb7",
   "metadata": {},
   "source": [
    "2.a Make a copy of the file `data.csv` removing the metadata and the commas between numbers; call it `data.txt`"
   ]
  },
  {
   "cell_type": "code",
   "execution_count": 4,
   "id": "de69c22e",
   "metadata": {},
   "outputs": [
    {
     "name": "stdout",
     "output_type": "stream",
     "text": [
      "00_introduction.ipynb\n",
      "00ex_introduction.ipynb\n",
      "01_Fundamentals.ipynb\n",
      "01ex_Fundamentals.ipynb\n",
      "02_NumberRepresentation.ipynb\n",
      "02ex_NumberRepresentation.ipynb\n",
      "03_Bash.ipynb\n",
      "03ex_Bash.ipynb\n",
      "04_Numpy.ipynb\n",
      "04ex_Numpy.ipynb\n",
      "05_OSEMN.ipynb\n",
      "05ex_OSEMN.ipynb\n",
      "06_Pandas.ipynb\n",
      "06ex_Pandas.ipynb\n",
      "07_Visualization.ipynb\n",
      "07ex_Visualization.ipynb\n",
      "08_LinearAlgebra.ipynb\n",
      "08ex_LinearAlgebra.ipynb\n",
      "09_Algorithms.ipynb\n",
      "09ex_Algorithms.ipynb\n",
      "10_MonteCarlo.ipynb\n",
      "10ex_MonteCarlo.ipynb\n",
      "README.md\n",
      "README_GitInstructions.md\n",
      "Singular-Value-Decomposition.png\n",
      "Untitled.ipynb\n",
      "Untitled1.ipynb\n",
      "__pycache__\n",
      "cases_vs_searches.jpeg\n",
      "credit_card.dat\n",
      "func.ipynb\n",
      "func.py\n",
      "max-speeds.npy\n",
      "moonlanding.png\n",
      "numpy_broadcasting.png\n",
      "numpy_fancy_indexing.png\n",
      "numpy_indexing.png\n",
      "populations.txt\n",
      "profile.png\n",
      "user_data.json\n",
      "xkcd_curve_fitting.png\n"
     ]
    },
    {
     "name": "stderr",
     "output_type": "stream",
     "text": [
      "Too many errors from stdin\n",
      "\n",
      "Buffer written to data.csv.save\n"
     ]
    },
    {
     "name": "stdout",
     "output_type": "stream",
     "text": [
      "\u001b[?2004h\u001b[?1049h\u001b[22;0;0t\u001b[1;24r\u001b(B\u001b[m\u001b[4l\u001b[?7h\u001b[39;49m\u001b[?1h\u001b=\u001b[?1h\u001b=\u001b[?25l\u001b[39;49m\u001b(B\u001b[m\u001b[H\u001b[2J\u001b[22;35H\u001b(B\u001b[0;7m[ New File ]\u001b(B\u001b[m\u001b[H\u001b(B\u001b[0;7m  GNU nano 4.8                        data.csv                                  \u001b[1;79H\u001b(B\u001b[m\r",
      "\u001b[23d\u001b(B\u001b[0;7m^G\u001b(B\u001b[m Get Help  \u001b(B\u001b[0;7m^O\u001b(B\u001b[m Write Out \u001b(B\u001b[0;7m^W\u001b(B\u001b[m Where Is  \u001b(B\u001b[0;7m^K\u001b(B\u001b[m Cut Text  \u001b(B\u001b[0;7m^J\u001b(B\u001b[m Justify   \u001b(B\u001b[0;7m^C\u001b(B\u001b[m Cur Pos\r",
      "\u001b[24d\u001b(B\u001b[0;7m^X\u001b(B\u001b[m Exit\u001b[14G\u001b(B\u001b[0;7m^R\u001b(B\u001b[m Read File \u001b(B\u001b[0;7m^\\\u001b(B\u001b[m Replace   \u001b(B\u001b[0;7m^U\u001b(B\u001b[m Paste Text\u001b(B\u001b[0;7m^T\u001b(B\u001b[m To Spell  \u001b(B\u001b[0;7m^_\u001b(B\u001b[m Go To Line\r",
      "\u001b[22d\u001b[2d\u001b[39;49m\u001b(B\u001b[m\u001b[?12l\u001b[?25h\u001b[?25l\u001b[1;71H\u001b(B\u001b[0;7mModified\r",
      "\u001b[22d\u001b(B\u001b[m\u001b[K\u001b[1;79H\u001b[22;29H\u001b(B\u001b[0;7m[ Justified paragraph ]\u001b(B\u001b[m\r",
      "\u001b[2d\u001b[36m# Recorded data from sensor XaB.v2\u001b[22;52H\u001b[39m\u001b(B\u001b[m\u001b[2;35H\u001b[36m Recording started on Oct 29 15:00:00\u001b[22;52H\u001b[39m\u001b(B\u001b[m\u001b[2;72H\u001b[36m \r",
      "\u001b[3d# Recording ended on Oct 29 15:15:59\u001b[22;52H\u001b[39m\u001b(B\u001b[m\u001b[3;37H\u001b[36m X, Y, Z, X', Y', Z'\u001b[22;52H\u001b[39m\u001b(B\u001b[m\r",
      "\u001b[4d55, 14, 48, 62, 78, 41\u001b[22;52H\u001b[4;24H32, 52, 94, 11, 17, 83\u001b[22;52H\u001b[4;47H83, 13, 61, 69, 44, 39\u001b[22;52H\u001b[4;70H77,\r",
      "\u001b[5d34, 34, 2, 93, 24\u001b[22;52H\u001b[5;19H25, 28, 49, 92, 3, 8\u001b[22;52H\u001b[5;40H44, 87, 63, 62, 23, 98\u001b[22;52H\u001b[5;63H90, 20, 6,\r",
      "\u001b[6d79, 32, 30\u001b[22;52H\u001b[6;12H73, 91, 41, 36, 0, 93\u001b[22;52H\u001b[6;34H63, 96, 17, 56, 30, 81\u001b[22;52H\u001b[6;57H37, 56, 35, 90,\r",
      "\u001b[7d69, 35\u001b[22;52H\u001b[7;8H32, 54, 87, 61, 81, 99\u001b[22;52H\u001b[7;31H21, 77, 47, 54, 99, 36\u001b[22;52H\u001b[7;54H93, 7, 85, 12, 67,\r",
      "\u001b[8d16\u001b[22;52H\u001b[8;4H65, 53, 27, 59, 98, 94\u001b[22;52H\u001b[8;27H23, 7, 59, 19, 75, 13\u001b[22;52H\u001b[8;49H47, 68, 79, 83, 81, 86\u001b[22;52H\r",
      "\u001b[9d51, 49, 84, 96, 71, 94\u001b[22;52H\u001b[9;24H23, 99, 9, 17, 55, 70\u001b[22;52H\u001b[9;46H49, 79, 62, 51, 6, 96\u001b[22;52H\u001b[9;68H56,\r",
      "\u001b[10d16, 51, 18, 11, 23\u001b[22;52H\u001b[10;20H98, 0, 78, 80, 75, 53\u001b[22;52H\u001b[10;42H77, 30, 58, 41, 86, 17\u001b[22;52H\u001b[10;65H93, 40,\r",
      "\u001b[11d62, 37, 92, 20\u001b[22;52H\u001b[11;16H30, 86, 63, 45, 70, 99\u001b[22;52H\u001b[11;39H2, 63, 89, 41, 95, 84\u001b[22;52H\u001b[11;61H77, 10, 87,\r",
      "\u001b[12d24, 2, 86\u001b[22;52H\u001b[12;11H43, 17, 82, 21, 52, 12\u001b[22;52H\u001b[12;34H33, 65, 98, 38, 19, 10\u001b[22;52H\u001b[12;57H52, 17, 68, 26,\r",
      "\u001b[13d61, 5\u001b[22;52H\u001b[13;7H39, 94, 40, 99, 48, 20\u001b[22;52H\u001b[13;30H58, 79, 79, 69, 71, 64\u001b[22;52H\u001b[13;53H6, 12, 97, 4, 16, 98\u001b[22;52H\r",
      "\u001b[14d79, 0, 40, 83, 49, 65\u001b[22;52H\u001b[14;23H51, 13, 29, 84, 62, 29\u001b[22;52H\u001b[14;46H60, 34, 12, 1, 12, 32\u001b[22;52H\u001b[14;68H36,\r",
      "\u001b[15d92, 15, 44, 82, 60\u001b[22;52H\u001b[15;20H6, 10, 72, 22, 62, 62\u001b[22;52H\u001b[15;42H69, 98, 3, 34, 16, 61\u001b[22;52H\u001b[15;64H21, 25,\r",
      "\u001b[16d2, 24, 93, 45\u001b[22;52H\u001b[16;15H82, 18, 2, 79, 51, 73\u001b[22;52H\u001b[16;37H93, 57, 75, 52, 77, 27\u001b[22;52H\u001b[16;60H10, 61, 93,\r",
      "\u001b[17d79, 74, 67\u001b[22;52H\u001b[17;12H6, 45, 94, 67, 68, 63\u001b[22;52H\u001b[17;34H2, 54, 8, 32, 86, 49\u001b[22d\b\b\u001b[17;55H60, 52, 22, 1, 19,\r",
      "\u001b[18d73\u001b[22;52H\u001b[18;4H78, 70, 87, 87, 39, 86\u001b[22;52H\u001b[18;27H0, 66, 89, 61, 28, 42\u001b[22;52H\u001b[18;49H85, 36, 81, 45, 49, 80\u001b[22;52H\r",
      "\u001b[19d96, 31, 82, 32, 88, 15\u001b[22;52H\u001b[19;24H70, 95, 3, 53, 31, 48\u001b[22;52H\u001b[19;46H^X\r",
      "\u001b[20d\u001b[?12l\u001b[?25h\u001b[24;1H\u001b[?1049l\u001b[23;0;0t\r",
      "\u001b[?1l\u001b>\u001b[?2004l"
     ]
    },
    {
     "ename": "CalledProcessError",
     "evalue": "Command 'b\"ls\\nnano data.csv\\n# Recorded data from sensor XaB.v2\\n# Recording started on Oct 29 15:00:00\\n# Recording ended on Oct 29 15:15:59\\n# X, Y, Z, X', Y', Z'\\n55, 14, 48, 62, 78, 41\\n32, 52, 94, 11, 17, 83\\n83, 13, 61, 69, 44, 39\\n77, 34, 34, 2, 93, 24\\n25, 28, 49, 92, 3, 8\\n44, 87, 63, 62, 23, 98\\n90, 20, 6, 79, 32, 30\\n73, 91, 41, 36, 0, 93\\n63, 96, 17, 56, 30, 81\\n37, 56, 35, 90, 69, 35\\n32, 54, 87, 61, 81, 99\\n21, 77, 47, 54, 99, 36\\n93, 7, 85, 12, 67, 16\\n65, 53, 27, 59, 98, 94\\n23, 7, 59, 19, 75, 13\\n47, 68, 79, 83, 81, 86\\n51, 49, 84, 96, 71, 94\\n23, 99, 9, 17, 55, 70\\n49, 79, 62, 51, 6, 96\\n56, 16, 51, 18, 11, 23\\n98, 0, 78, 80, 75, 53\\n77, 30, 58, 41, 86, 17\\n93, 40, 62, 37, 92, 20\\n30, 86, 63, 45, 70, 99\\n2, 63, 89, 41, 95, 84\\n77, 10, 87, 24, 2, 86\\n43, 17, 82, 21, 52, 12\\n33, 65, 98, 38, 19, 10\\n52, 17, 68, 26, 61, 5\\n39, 94, 40, 99, 48, 20\\n58, 79, 79, 69, 71, 64\\n6, 12, 97, 4, 16, 98\\n79, 0, 40, 83, 49, 65\\n51, 13, 29, 84, 62, 29\\n60, 34, 12, 1, 12, 32\\n36, 92, 15, 44, 82, 60\\n6, 10, 72, 22, 62, 62\\n69, 98, 3, 34, 16, 61\\n21, 25, 2, 24, 93, 45\\n82, 18, 2, 79, 51, 73\\n93, 57, 75, 52, 77, 27\\n10, 61, 93, 79, 74, 67\\n6, 45, 94, 67, 68, 63\\n2, 54, 8, 32, 86, 49\\n60, 52, 22, 1, 19, 73\\n78, 70, 87, 87, 39, 86\\n0, 66, 89, 61, 28, 42\\n85, 36, 81, 45, 49, 80\\n96, 31, 82, 32, 88, 15\\n70, 95, 3, 53, 31, 48\\n^X\\n\"' returned non-zero exit status 1.",
     "output_type": "error",
     "traceback": [
      "\u001b[1;31m---------------------------------------------------------------------------\u001b[0m",
      "\u001b[1;31mCalledProcessError\u001b[0m                        Traceback (most recent call last)",
      "Cell \u001b[1;32mIn[4], line 1\u001b[0m\n\u001b[1;32m----> 1\u001b[0m \u001b[43mget_ipython\u001b[49m\u001b[43m(\u001b[49m\u001b[43m)\u001b[49m\u001b[38;5;241;43m.\u001b[39;49m\u001b[43mrun_cell_magic\u001b[49m\u001b[43m(\u001b[49m\u001b[38;5;124;43m'\u001b[39;49m\u001b[38;5;124;43mbash\u001b[39;49m\u001b[38;5;124;43m'\u001b[39;49m\u001b[43m,\u001b[49m\u001b[43m \u001b[49m\u001b[38;5;124;43m'\u001b[39;49m\u001b[38;5;124;43m'\u001b[39;49m\u001b[43m,\u001b[49m\u001b[43m \u001b[49m\u001b[38;5;124;43m\"\u001b[39;49m\u001b[38;5;124;43mls\u001b[39;49m\u001b[38;5;130;43;01m\\n\u001b[39;49;00m\u001b[38;5;124;43mnano data.csv\u001b[39;49m\u001b[38;5;130;43;01m\\n\u001b[39;49;00m\u001b[38;5;124;43m# Recorded data from sensor XaB.v2\u001b[39;49m\u001b[38;5;130;43;01m\\n\u001b[39;49;00m\u001b[38;5;124;43m# Recording started on Oct 29 15:00:00\u001b[39;49m\u001b[38;5;130;43;01m\\n\u001b[39;49;00m\u001b[38;5;124;43m# Recording ended on Oct 29 15:15:59\u001b[39;49m\u001b[38;5;130;43;01m\\n\u001b[39;49;00m\u001b[38;5;124;43m# X, Y, Z, X\u001b[39;49m\u001b[38;5;124;43m'\u001b[39;49m\u001b[38;5;124;43m, Y\u001b[39;49m\u001b[38;5;124;43m'\u001b[39;49m\u001b[38;5;124;43m, Z\u001b[39;49m\u001b[38;5;124;43m'\u001b[39;49m\u001b[38;5;130;43;01m\\n\u001b[39;49;00m\u001b[38;5;124;43m55, 14, 48, 62, 78, 41\u001b[39;49m\u001b[38;5;130;43;01m\\n\u001b[39;49;00m\u001b[38;5;124;43m32, 52, 94, 11, 17, 83\u001b[39;49m\u001b[38;5;130;43;01m\\n\u001b[39;49;00m\u001b[38;5;124;43m83, 13, 61, 69, 44, 39\u001b[39;49m\u001b[38;5;130;43;01m\\n\u001b[39;49;00m\u001b[38;5;124;43m77, 34, 34, 2, 93, 24\u001b[39;49m\u001b[38;5;130;43;01m\\n\u001b[39;49;00m\u001b[38;5;124;43m25, 28, 49, 92, 3, 8\u001b[39;49m\u001b[38;5;130;43;01m\\n\u001b[39;49;00m\u001b[38;5;124;43m44, 87, 63, 62, 23, 98\u001b[39;49m\u001b[38;5;130;43;01m\\n\u001b[39;49;00m\u001b[38;5;124;43m90, 20, 6, 79, 32, 30\u001b[39;49m\u001b[38;5;130;43;01m\\n\u001b[39;49;00m\u001b[38;5;124;43m73, 91, 41, 36, 0, 93\u001b[39;49m\u001b[38;5;130;43;01m\\n\u001b[39;49;00m\u001b[38;5;124;43m63, 96, 17, 56, 30, 81\u001b[39;49m\u001b[38;5;130;43;01m\\n\u001b[39;49;00m\u001b[38;5;124;43m37, 56, 35, 90, 69, 35\u001b[39;49m\u001b[38;5;130;43;01m\\n\u001b[39;49;00m\u001b[38;5;124;43m32, 54, 87, 61, 81, 99\u001b[39;49m\u001b[38;5;130;43;01m\\n\u001b[39;49;00m\u001b[38;5;124;43m21, 77, 47, 54, 99, 36\u001b[39;49m\u001b[38;5;130;43;01m\\n\u001b[39;49;00m\u001b[38;5;124;43m93, 7, 85, 12, 67, 16\u001b[39;49m\u001b[38;5;130;43;01m\\n\u001b[39;49;00m\u001b[38;5;124;43m65, 53, 27, 59, 98, 94\u001b[39;49m\u001b[38;5;130;43;01m\\n\u001b[39;49;00m\u001b[38;5;124;43m23, 7, 59, 19, 75, 13\u001b[39;49m\u001b[38;5;130;43;01m\\n\u001b[39;49;00m\u001b[38;5;124;43m47, 68, 79, 83, 81, 86\u001b[39;49m\u001b[38;5;130;43;01m\\n\u001b[39;49;00m\u001b[38;5;124;43m51, 49, 84, 96, 71, 94\u001b[39;49m\u001b[38;5;130;43;01m\\n\u001b[39;49;00m\u001b[38;5;124;43m23, 99, 9, 17, 55, 70\u001b[39;49m\u001b[38;5;130;43;01m\\n\u001b[39;49;00m\u001b[38;5;124;43m49, 79, 62, 51, 6, 96\u001b[39;49m\u001b[38;5;130;43;01m\\n\u001b[39;49;00m\u001b[38;5;124;43m56, 16, 51, 18, 11, 23\u001b[39;49m\u001b[38;5;130;43;01m\\n\u001b[39;49;00m\u001b[38;5;124;43m98, 0, 78, 80, 75, 53\u001b[39;49m\u001b[38;5;130;43;01m\\n\u001b[39;49;00m\u001b[38;5;124;43m77, 30, 58, 41, 86, 17\u001b[39;49m\u001b[38;5;130;43;01m\\n\u001b[39;49;00m\u001b[38;5;124;43m93, 40, 62, 37, 92, 20\u001b[39;49m\u001b[38;5;130;43;01m\\n\u001b[39;49;00m\u001b[38;5;124;43m30, 86, 63, 45, 70, 99\u001b[39;49m\u001b[38;5;130;43;01m\\n\u001b[39;49;00m\u001b[38;5;124;43m2, 63, 89, 41, 95, 84\u001b[39;49m\u001b[38;5;130;43;01m\\n\u001b[39;49;00m\u001b[38;5;124;43m77, 10, 87, 24, 2, 86\u001b[39;49m\u001b[38;5;130;43;01m\\n\u001b[39;49;00m\u001b[38;5;124;43m43, 17, 82, 21, 52, 12\u001b[39;49m\u001b[38;5;130;43;01m\\n\u001b[39;49;00m\u001b[38;5;124;43m33, 65, 98, 38, 19, 10\u001b[39;49m\u001b[38;5;130;43;01m\\n\u001b[39;49;00m\u001b[38;5;124;43m52, 17, 68, 26, 61, 5\u001b[39;49m\u001b[38;5;130;43;01m\\n\u001b[39;49;00m\u001b[38;5;124;43m39, 94, 40, 99, 48, 20\u001b[39;49m\u001b[38;5;130;43;01m\\n\u001b[39;49;00m\u001b[38;5;124;43m58, 79, 79, 69, 71, 64\u001b[39;49m\u001b[38;5;130;43;01m\\n\u001b[39;49;00m\u001b[38;5;124;43m6, 12, 97, 4, 16, 98\u001b[39;49m\u001b[38;5;130;43;01m\\n\u001b[39;49;00m\u001b[38;5;124;43m79, 0, 40, 83, 49, 65\u001b[39;49m\u001b[38;5;130;43;01m\\n\u001b[39;49;00m\u001b[38;5;124;43m51, 13, 29, 84, 62, 29\u001b[39;49m\u001b[38;5;130;43;01m\\n\u001b[39;49;00m\u001b[38;5;124;43m60, 34, 12, 1, 12, 32\u001b[39;49m\u001b[38;5;130;43;01m\\n\u001b[39;49;00m\u001b[38;5;124;43m36, 92, 15, 44, 82, 60\u001b[39;49m\u001b[38;5;130;43;01m\\n\u001b[39;49;00m\u001b[38;5;124;43m6, 10, 72, 22, 62, 62\u001b[39;49m\u001b[38;5;130;43;01m\\n\u001b[39;49;00m\u001b[38;5;124;43m69, 98, 3, 34, 16, 61\u001b[39;49m\u001b[38;5;130;43;01m\\n\u001b[39;49;00m\u001b[38;5;124;43m21, 25, 2, 24, 93, 45\u001b[39;49m\u001b[38;5;130;43;01m\\n\u001b[39;49;00m\u001b[38;5;124;43m82, 18, 2, 79, 51, 73\u001b[39;49m\u001b[38;5;130;43;01m\\n\u001b[39;49;00m\u001b[38;5;124;43m93, 57, 75, 52, 77, 27\u001b[39;49m\u001b[38;5;130;43;01m\\n\u001b[39;49;00m\u001b[38;5;124;43m10, 61, 93, 79, 74, 67\u001b[39;49m\u001b[38;5;130;43;01m\\n\u001b[39;49;00m\u001b[38;5;124;43m6, 45, 94, 67, 68, 63\u001b[39;49m\u001b[38;5;130;43;01m\\n\u001b[39;49;00m\u001b[38;5;124;43m2, 54, 8, 32, 86, 49\u001b[39;49m\u001b[38;5;130;43;01m\\n\u001b[39;49;00m\u001b[38;5;124;43m60, 52, 22, 1, 19, 73\u001b[39;49m\u001b[38;5;130;43;01m\\n\u001b[39;49;00m\u001b[38;5;124;43m78, 70, 87, 87, 39, 86\u001b[39;49m\u001b[38;5;130;43;01m\\n\u001b[39;49;00m\u001b[38;5;124;43m0, 66, 89, 61, 28, 42\u001b[39;49m\u001b[38;5;130;43;01m\\n\u001b[39;49;00m\u001b[38;5;124;43m85, 36, 81, 45, 49, 80\u001b[39;49m\u001b[38;5;130;43;01m\\n\u001b[39;49;00m\u001b[38;5;124;43m96, 31, 82, 32, 88, 15\u001b[39;49m\u001b[38;5;130;43;01m\\n\u001b[39;49;00m\u001b[38;5;124;43m70, 95, 3, 53, 31, 48\u001b[39;49m\u001b[38;5;130;43;01m\\n\u001b[39;49;00m\u001b[38;5;124;43m^X\u001b[39;49m\u001b[38;5;130;43;01m\\n\u001b[39;49;00m\u001b[38;5;124;43m\"\u001b[39;49m\u001b[43m)\u001b[49m\n",
      "File \u001b[1;32mC:\\ProgramData\\anaconda3\\lib\\site-packages\\IPython\\core\\interactiveshell.py:2430\u001b[0m, in \u001b[0;36mInteractiveShell.run_cell_magic\u001b[1;34m(self, magic_name, line, cell)\u001b[0m\n\u001b[0;32m   2428\u001b[0m \u001b[38;5;28;01mwith\u001b[39;00m \u001b[38;5;28mself\u001b[39m\u001b[38;5;241m.\u001b[39mbuiltin_trap:\n\u001b[0;32m   2429\u001b[0m     args \u001b[38;5;241m=\u001b[39m (magic_arg_s, cell)\n\u001b[1;32m-> 2430\u001b[0m     result \u001b[38;5;241m=\u001b[39m fn(\u001b[38;5;241m*\u001b[39margs, \u001b[38;5;241m*\u001b[39m\u001b[38;5;241m*\u001b[39mkwargs)\n\u001b[0;32m   2432\u001b[0m \u001b[38;5;66;03m# The code below prevents the output from being displayed\u001b[39;00m\n\u001b[0;32m   2433\u001b[0m \u001b[38;5;66;03m# when using magics with decodator @output_can_be_silenced\u001b[39;00m\n\u001b[0;32m   2434\u001b[0m \u001b[38;5;66;03m# when the last Python token in the expression is a ';'.\u001b[39;00m\n\u001b[0;32m   2435\u001b[0m \u001b[38;5;28;01mif\u001b[39;00m \u001b[38;5;28mgetattr\u001b[39m(fn, magic\u001b[38;5;241m.\u001b[39mMAGIC_OUTPUT_CAN_BE_SILENCED, \u001b[38;5;28;01mFalse\u001b[39;00m):\n",
      "File \u001b[1;32mC:\\ProgramData\\anaconda3\\lib\\site-packages\\IPython\\core\\magics\\script.py:153\u001b[0m, in \u001b[0;36mScriptMagics._make_script_magic.<locals>.named_script_magic\u001b[1;34m(line, cell)\u001b[0m\n\u001b[0;32m    151\u001b[0m \u001b[38;5;28;01melse\u001b[39;00m:\n\u001b[0;32m    152\u001b[0m     line \u001b[38;5;241m=\u001b[39m script\n\u001b[1;32m--> 153\u001b[0m \u001b[38;5;28;01mreturn\u001b[39;00m \u001b[38;5;28;43mself\u001b[39;49m\u001b[38;5;241;43m.\u001b[39;49m\u001b[43mshebang\u001b[49m\u001b[43m(\u001b[49m\u001b[43mline\u001b[49m\u001b[43m,\u001b[49m\u001b[43m \u001b[49m\u001b[43mcell\u001b[49m\u001b[43m)\u001b[49m\n",
      "File \u001b[1;32mC:\\ProgramData\\anaconda3\\lib\\site-packages\\IPython\\core\\magics\\script.py:305\u001b[0m, in \u001b[0;36mScriptMagics.shebang\u001b[1;34m(self, line, cell)\u001b[0m\n\u001b[0;32m    300\u001b[0m \u001b[38;5;28;01mif\u001b[39;00m args\u001b[38;5;241m.\u001b[39mraise_error \u001b[38;5;129;01mand\u001b[39;00m p\u001b[38;5;241m.\u001b[39mreturncode \u001b[38;5;241m!=\u001b[39m \u001b[38;5;241m0\u001b[39m:\n\u001b[0;32m    301\u001b[0m     \u001b[38;5;66;03m# If we get here and p.returncode is still None, we must have\u001b[39;00m\n\u001b[0;32m    302\u001b[0m     \u001b[38;5;66;03m# killed it but not yet seen its return code. We don't wait for it,\u001b[39;00m\n\u001b[0;32m    303\u001b[0m     \u001b[38;5;66;03m# in case it's stuck in uninterruptible sleep. -9 = SIGKILL\u001b[39;00m\n\u001b[0;32m    304\u001b[0m     rc \u001b[38;5;241m=\u001b[39m p\u001b[38;5;241m.\u001b[39mreturncode \u001b[38;5;129;01mor\u001b[39;00m \u001b[38;5;241m-\u001b[39m\u001b[38;5;241m9\u001b[39m\n\u001b[1;32m--> 305\u001b[0m     \u001b[38;5;28;01mraise\u001b[39;00m CalledProcessError(rc, cell)\n",
      "\u001b[1;31mCalledProcessError\u001b[0m: Command 'b\"ls\\nnano data.csv\\n# Recorded data from sensor XaB.v2\\n# Recording started on Oct 29 15:00:00\\n# Recording ended on Oct 29 15:15:59\\n# X, Y, Z, X', Y', Z'\\n55, 14, 48, 62, 78, 41\\n32, 52, 94, 11, 17, 83\\n83, 13, 61, 69, 44, 39\\n77, 34, 34, 2, 93, 24\\n25, 28, 49, 92, 3, 8\\n44, 87, 63, 62, 23, 98\\n90, 20, 6, 79, 32, 30\\n73, 91, 41, 36, 0, 93\\n63, 96, 17, 56, 30, 81\\n37, 56, 35, 90, 69, 35\\n32, 54, 87, 61, 81, 99\\n21, 77, 47, 54, 99, 36\\n93, 7, 85, 12, 67, 16\\n65, 53, 27, 59, 98, 94\\n23, 7, 59, 19, 75, 13\\n47, 68, 79, 83, 81, 86\\n51, 49, 84, 96, 71, 94\\n23, 99, 9, 17, 55, 70\\n49, 79, 62, 51, 6, 96\\n56, 16, 51, 18, 11, 23\\n98, 0, 78, 80, 75, 53\\n77, 30, 58, 41, 86, 17\\n93, 40, 62, 37, 92, 20\\n30, 86, 63, 45, 70, 99\\n2, 63, 89, 41, 95, 84\\n77, 10, 87, 24, 2, 86\\n43, 17, 82, 21, 52, 12\\n33, 65, 98, 38, 19, 10\\n52, 17, 68, 26, 61, 5\\n39, 94, 40, 99, 48, 20\\n58, 79, 79, 69, 71, 64\\n6, 12, 97, 4, 16, 98\\n79, 0, 40, 83, 49, 65\\n51, 13, 29, 84, 62, 29\\n60, 34, 12, 1, 12, 32\\n36, 92, 15, 44, 82, 60\\n6, 10, 72, 22, 62, 62\\n69, 98, 3, 34, 16, 61\\n21, 25, 2, 24, 93, 45\\n82, 18, 2, 79, 51, 73\\n93, 57, 75, 52, 77, 27\\n10, 61, 93, 79, 74, 67\\n6, 45, 94, 67, 68, 63\\n2, 54, 8, 32, 86, 49\\n60, 52, 22, 1, 19, 73\\n78, 70, 87, 87, 39, 86\\n0, 66, 89, 61, 28, 42\\n85, 36, 81, 45, 49, 80\\n96, 31, 82, 32, 88, 15\\n70, 95, 3, 53, 31, 48\\n^X\\n\"' returned non-zero exit status 1."
     ]
    }
   ],
   "source": [
    "%%bash \n",
    "ls\n",
    "'''\n",
    "nano data.csv \n",
    "e scrivo il contenuto del file\n",
    "grep ^# data.csv \n"
   ]
  },
  {
   "cell_type": "markdown",
   "id": "344048c8",
   "metadata": {},
   "source": [
    "2\\.b How many even numbers are there?"
   ]
  },
  {
   "cell_type": "markdown",
   "id": "2a27138d",
   "metadata": {},
   "source": [
    "2\\.c Distinguish the entries on the basis of `sqrt(X^2 + Y^2 + Z^2)` is greater or smaller than `100*sqrt(3)/2`. Count the entries of each of the two groups "
   ]
  },
  {
   "cell_type": "markdown",
   "id": "e937ef4e",
   "metadata": {},
   "source": [
    "2\\.d Make `n` copies of data.txt (with `n` an input parameter of the script), where the i-th copy has all the numbers divided by i (with `1<=i<=n`)."
   ]
  }
 ],
 "metadata": {
  "kernelspec": {
   "display_name": "Python 3 (ipykernel)",
   "language": "python",
   "name": "python3"
  },
  "language_info": {
   "codemirror_mode": {
    "name": "ipython",
    "version": 3
   },
   "file_extension": ".py",
   "mimetype": "text/x-python",
   "name": "python",
   "nbconvert_exporter": "python",
   "pygments_lexer": "ipython3",
   "version": "3.10.9"
  }
 },
 "nbformat": 4,
 "nbformat_minor": 5
}
