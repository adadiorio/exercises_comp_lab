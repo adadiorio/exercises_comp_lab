{
 "cells": [
  {
   "cell_type": "markdown",
   "metadata": {},
   "source": [
    "1\\. Write a function that converts number representation, bin<->dec<->hex. (Clearly using the corresponding python built-in functions is not fair..)"
   ]
  },
  {
   "cell_type": "code",
   "execution_count": 1,
   "metadata": {},
   "outputs": [
    {
     "name": "stdout",
     "output_type": "stream",
     "text": [
      "46\n",
      "74\n"
     ]
    }
   ],
   "source": [
    "import numpy as np\n",
    "\n",
    "def convert(x, base_from, base_to):\n",
    "    hex_digits = '0123456789ABCDEF'\n",
    "    dec_digits = [0, 1, 2, 3, 4, 5, 6, 7, 8, 9, 10, 11, 12, 13, 14, 15]\n",
    "    \n",
    "    if base_from == 'bin':\n",
    "        \n",
    "        if base_to == 'dec':\n",
    "            \n",
    "            try:\n",
    "                decimal_value = 0\n",
    "                x = str(x)\n",
    "                for i in range(len(x)):\n",
    "                    decimal_value += int(x[i]) * 2 ** i\n",
    "            except:\n",
    "                raise ValueError('The only conversion possible is to dec')\n",
    "        return decimal_value\n",
    "    \n",
    "    if base_from == 'dec':\n",
    "      \n",
    "        if base_to == 'bin':\n",
    "           \n",
    "            bin_value = ''\n",
    "            q = x\n",
    "            while q > 0:\n",
    "                bin_value += str(q % 2) \n",
    "                q //= 2\n",
    "                \n",
    "            bin_value = bin_value[::-1]\n",
    "            \n",
    "            return bin_value\n",
    "        \n",
    "        if base_to == 'hex':\n",
    "            hex_value = ''\n",
    "            q = x\n",
    "            \n",
    "            while q > 0:\n",
    "                remainder = q % 16 \n",
    "                #print(q, remainder, hex_digits[remainder])\n",
    "                hex_value += hex_digits[remainder] \n",
    "                #print(hex_value)\n",
    "                q //= 16 \n",
    "            \n",
    "            return hex_value [::-1]\n",
    "        \n",
    "    if base_from == 'hex':\n",
    "        \n",
    "        decimal_value = 1\n",
    "        summ = 0\n",
    "        prod = 1\n",
    "        count = 1\n",
    "        \n",
    "        for i in x:\n",
    "            for j in range(len(hex_digits)):\n",
    "                if hex_digits[j] == i:\n",
    "                    index = j\n",
    "\n",
    "            converted = dec_digits[index]\n",
    "            summ += converted * 16 ** count\n",
    "            #print(summ)\n",
    "            count -= 1\n",
    "        \n",
    "        return summ\n",
    "#risultato 51          \n",
    "print(convert(70, 'dec', 'hex'))  #L'algoritmo va un po sistemato ma dovrebbe andare bene così\n",
    "print(convert('4A', 'hex', 'dec'))"
   ]
  },
  {
   "cell_type": "code",
   "execution_count": 4,
   "metadata": {},
   "outputs": [
    {
     "name": "stdout",
     "output_type": "stream",
     "text": [
      "Original String: Hello, World!\n",
      "Reversed String: !dlroW ,olleH\n"
     ]
    }
   ],
   "source": [
    "def reverse_string(input_string):\n",
    "    reversed_string = input_string[::-1]\n",
    "    return reversed_string\n",
    "\n",
    "# Esempio di utilizzo:\n",
    "original_string = \"Hello, World!\"\n",
    "reversed_result = reverse_string(original_string)\n",
    "\n",
    "print(f\"Original String: {original_string}\")\n",
    "print(f\"Reversed String: {reversed_result}\")\n"
   ]
  },
  {
   "cell_type": "markdown",
   "metadata": {},
   "source": [
    "2\\. Write a function that converts a 32 bit word into a single precision floating point (i.e. interprets the various bits as sign, mantissa and exponent)"
   ]
  },
  {
   "cell_type": "code",
   "execution_count": 6,
   "metadata": {},
   "outputs": [
    {
     "name": "stdout",
     "output_type": "stream",
     "text": [
      "Floating number:  -1.50933837890625\n"
     ]
    }
   ],
   "source": [
    "word = '11000001001100100000000000000000'\n",
    "\n",
    "#Imposto il segno del numero in input\n",
    "bit_mantissa = 23\n",
    "bit_exp = 31 - bit_mantissa\n",
    "\n",
    "if word[0] == 0:\n",
    "    s = 1\n",
    "else:\n",
    "    s = -1\n",
    "\n",
    "mantissa = 1\n",
    "counter = -1\n",
    "for i in range(1, 24):\n",
    "    mantissa += float(word[i]) * 2 ** counter\n",
    "    counter -= 1\n",
    "    \n",
    "exp = 0   \n",
    "counter = 7\n",
    "for j in range(24, len(word)):\n",
    "    exp += float(word[j]) * 2 ** counter\n",
    "    counter -= 1\n",
    "\n",
    "print(\"Floating number: \", (-1) ** s * mantissa * 2 ** (exp)) #rivedere, non so perché ma non va "
   ]
  },
  {
   "cell_type": "markdown",
   "metadata": {},
   "source": [
    "3\\. Write a program to determine the underflow and overflow limits (within a factor of 2) for python on your computer. \n",
    "\n",
    "**Tips**: define two variables inizialized to 1 and halve/double them enough time to exceed the under/over-flow limits  "
   ]
  },
  {
   "cell_type": "code",
   "execution_count": 10,
   "metadata": {},
   "outputs": [
    {
     "name": "stdout",
     "output_type": "stream",
     "text": [
      "4.450147717014403e-308 8.988465674311579e+307\n"
     ]
    }
   ],
   "source": [
    "import sys\n",
    "\n",
    "float_info = sys.float_info \n",
    "underflow_limit = float_info.min * 2\n",
    "overflow_limit = float_info.max / 2\n",
    "\n",
    "print(underflow_limit, overflow_limit)\n"
   ]
  },
  {
   "cell_type": "markdown",
   "metadata": {},
   "source": [
    "4\\. Write a program to determine the machine precision\n",
    "\n",
    "**Tips**: define a new variable by adding a smaller and smaller value (proceeding similarly to prob. 2) to an original variable and check the point where the two are the same "
   ]
  },
  {
   "cell_type": "code",
   "execution_count": 11,
   "metadata": {},
   "outputs": [
    {
     "name": "stdout",
     "output_type": "stream",
     "text": [
      "1.1102230246251565e-16\n"
     ]
    }
   ],
   "source": [
    "count = 0\n",
    "y = 1.0\n",
    "x = 1.0\n",
    "while x + y != y:\n",
    "    x /= 2 \n",
    "    \n",
    "print(x)"
   ]
  },
  {
   "cell_type": "markdown",
   "metadata": {},
   "source": [
    "5\\. Write a function that takes in input three parameters $a$, $b$ and $c$ and prints out the two solutions to the quadratic equation $ax^2+bx+c=0$ using the standard formula:\n",
    "$$\n",
    "x=\\frac{-b\\pm\\sqrt{b^2-4ac}}{2a}\n",
    "$$\n",
    "\n",
    "(a) use the program to compute the solution for $a=0.001$, $b=1000$ and $c=0.001$\n",
    "\n",
    "(b) re-express the standard solution formula by multiplying top and bottom by $-b\\mp\\sqrt{b^2-4ac}$ and again find the solution for $a=0.001$, $b=1000$ and $c=0.001$. How does it compare with what previously obtained? Why?\n",
    "\n",
    "(c) write a function that compute the roots of a quadratic equation accurately in all cases"
   ]
  },
  {
   "cell_type": "code",
   "execution_count": 12,
   "metadata": {},
   "outputs": [
    {
     "name": "stdout",
     "output_type": "stream",
     "text": [
      "-9.999894245993346e-07 -999999.999999\n",
      "-1.999978849198669e-09 -1999.999999998\n",
      "-----------------------------------\n",
      "-9.999894245993346e-07 -999999.999999\n",
      "-9.999894245993346e-07 -999999.9999989999\n"
     ]
    }
   ],
   "source": [
    "import numpy as np\n",
    "\n",
    "def resolver(a, b, c):\n",
    "    delta = b ** 2 - 4 * a * c\n",
    "    x_1 = (-b + np.sqrt(delta)) * (-b - np.sqrt(delta)) / (-b - np.sqrt(delta))\n",
    "    x_2 = (-b - np.sqrt(delta)) * (-b + np.sqrt(delta)) / (-b + np.sqrt(delta))\n",
    "    x1 = (-b + np.sqrt(delta))/(2 * a)\n",
    "    x2 = (-b - np.sqrt(delta))/(2 * a)\n",
    "    \n",
    "    \n",
    "    print(x1, x2)\n",
    "    print(x_1, x_2)\n",
    "    \n",
    "resolver(0.001, 1000, 0.001)\n",
    "\n",
    "def better_resolver(a, b, c):\n",
    "    delta = b ** 2 - 4 * a * c\n",
    "    \n",
    "    x_1 = (-b - np.sqrt(delta))\n",
    "    x_2 = (-b + np.sqrt(delta))\n",
    "\n",
    "\n",
    "    x1 = (-b + np.sqrt(delta))/(2 * a)\n",
    "    x2 = (-b - np.sqrt(delta))/(2 * a)\n",
    "    \n",
    "    x_1 = (x1 * x_1) / x_1\n",
    "    x_2 = (x2 * x_2) / x_2\n",
    "    \n",
    "    print(x1, x2)\n",
    "    print(x_1, x_2)\n",
    "\n",
    "print('-----------------------------------')\n",
    "better_resolver(0.001, 1000, 0.001)\n",
    "    "
   ]
  },
  {
   "cell_type": "markdown",
   "metadata": {},
   "source": [
    "6\\. Write a program that implements the function $f(x)=x(x−1)$\n",
    "\n",
    "(a) Calculate the derivative of the function at the point $x = 1$ using the derivative definition:\n",
    "\n",
    "$$\n",
    "\\frac{{\\rm d}f}{{\\rm d}x} = \\lim_{\\delta\\to0} \\frac{f(x+\\delta)-f(x)}{\\delta}\n",
    "$$\n",
    "\n",
    "with $\\delta = 10^{−2}$. Calculate the true value of the same derivative analytically and compare with the answer your program gives. The two will not agree perfectly. Why not?\n",
    "\n",
    "(b) Repeat the calculation for $\\delta = 10^{−4}, 10^{−6}, 10^{−8}, 10^{−10}, 10^{−12}$ and $10^{−14}$. How does the accuracy scales with $\\delta$?"
   ]
  },
  {
   "cell_type": "code",
   "execution_count": 19,
   "metadata": {},
   "outputs": [
    {
     "name": "stdout",
     "output_type": "stream",
     "text": [
      "Derivative estimated computationally:  110.9219119118734\n",
      "Derivative estimated analytically:  110.91191191191191\n",
      "Accuracy with respect to the analytical solution:  0.9999999961479489 %\n"
     ]
    },
    {
     "data": {
      "text/plain": [
       "[<matplotlib.lines.Line2D at 0x1dba4898df0>]"
      ]
     },
     "execution_count": 19,
     "metadata": {},
     "output_type": "execute_result"
    },
    {
     "data": {
      "image/png": "[encoded data removed]",
      "text/plain": [
       "<Figure size 640x480 with 1 Axes>"
      ]
     },
     "metadata": {},
     "output_type": "display_data"
    }
   ],
   "source": [
    "import matplotlib.pyplot as plt\n",
    "\n",
    "def func(x):\n",
    "    return x * (x - 1)\n",
    "\n",
    "def deriv(x):\n",
    "    return 2 * x - 1\n",
    "N = 1000\n",
    "delta = 0.01\n",
    "x = np.linspace(0, 100, N)\n",
    "\n",
    "step = x.max() / N\n",
    "\n",
    "index = np.random.randint(0, len(x))\n",
    "derivative = (func(x[index]+ delta) - func(x[index]))/delta \n",
    "\n",
    "print('Derivative estimated computationally: ', derivative)\n",
    "print('Derivative estimated analytically: ', deriv(x[index]))\n",
    "\n",
    "print('Accuracy with respect to the analytical solution: ', (derivative - deriv(x[index])) * 100 , '%')\n",
    "plt.plot(x, func(x))"
   ]
  },
  {
   "cell_type": "code",
   "execution_count": 36,
   "metadata": {},
   "outputs": [
    {
     "name": "stdout",
     "output_type": "stream",
     "text": [
      "Accuracy for delta equal to:  0.01 : 0.9999999961479489 %\n",
      "Accuracy for delta equal to:  0.0001 : 0.010000256716580225 %\n",
      "Accuracy for delta equal to:  1e-06 : 6.311760500921082e-05 %\n",
      "Accuracy for delta equal to:  1e-08 : 0.0011999859822253711 %\n",
      "Accuracy for delta equal to:  1e-10 : 0.09669692966838284 %\n",
      "Accuracy for delta equal to:  1e-12 : 4.644170438533024 %\n",
      "Accuracy for delta equal to:  1e-14 : -6543.71768232655 %\n"
     ]
    },
    {
     "data": {
      "image/png": "[encoded data removed]",
      "text/plain": [
       "<Figure size 640x480 with 1 Axes>"
      ]
     },
     "metadata": {},
     "output_type": "display_data"
    }
   ],
   "source": [
    "delta = [10**-2, 10**-4, 10**-6, 10**-8, 10**-10, 10**-12, 10**-14]\n",
    "accuracy = []\n",
    "for dx in delta:\n",
    "    derivative = (func(x[index] + dx) - func(x[index])) / dx\n",
    "    analytical_der = deriv(x[index])\n",
    "    print(\"Accuracy for delta equal to: \", dx, \":\", (derivative - analytical_der) * 100, '%')\n",
    "    accuracy.append((derivative - analytical_der) * 100)\n",
    "    \n",
    "plt.scatter(delta, accuracy)\n",
    "plt.gca().invert_xaxis() #c'è una differenza di due ordini di grandezza fra un valore e l'altro\n",
    "#l'accuracy peggiora con 10**2 diminuendo delta a partire da 10**-8 \n",
    "#migliora fra 10**-2 e 10**-6 "
   ]
  },
  {
   "cell_type": "markdown",
   "metadata": {},
   "source": [
    "7\\. Consider the integral of the semicircle of radius 1:\n",
    "$$\n",
    "I=\\int_{-1}^{1} \\sqrt(1-x^2) {\\rm d}x\n",
    "$$\n",
    "which it's known to be $I=\\frac{\\pi}{2}=1.57079632679...$.\n",
    "Alternatively we can use the Riemann definition of the integral:\n",
    "$$\n",
    "I=\\lim_{N\\to\\infty} \\sum_{k=1}^{N} h y_k \n",
    "$$\n",
    "\n",
    "with $h=2/N$ the width of each of the $N$ slices the domain is divided into and where\n",
    "$y_k$ is the value of the function at the $k-$th slice.\n",
    "\n",
    "(a) Write a programe to compute the integral with $N=100$. How does the result compares to the true value?\n",
    "\n",
    "(b) How much can $N$ be increased if the computation needs to be run in less than a second? What is the gain in running it for 1 minute? \n"
   ]
  },
  {
   "cell_type": "code",
   "execution_count": 28,
   "metadata": {},
   "outputs": [
    {
     "data": {
      "image/png": "[encoded data removed]",
      "text/plain": [
       "<Figure size 640x480 with 1 Axes>"
      ]
     },
     "metadata": {},
     "output_type": "display_data"
    },
    {
     "name": "stdout",
     "output_type": "stream",
     "text": [
      "1.553417929404895\n",
      "1.5691729158636196\n",
      "1.5706375839994526\n",
      "1.5707805662399095\n",
      "1.5707947543354452\n",
      "1.4445207118988037 s 10000000\n"
     ]
    },
    {
     "data": {
      "image/png": "[encoded data removed]",
      "text/plain": [
       "<Figure size 640x480 with 1 Axes>"
      ]
     },
     "metadata": {},
     "output_type": "display_data"
    }
   ],
   "source": [
    "import numpy as np \n",
    "import matplotlib.pyplot as plt \n",
    "import time \n",
    "\n",
    "N = 100\n",
    "\n",
    "def function(x):\n",
    "    return np.sqrt( 1 - x **2 )\n",
    "\n",
    "\n",
    "\n",
    "\n",
    "plt.plot(x, function(x))\n",
    "plt.show()\n",
    "\n",
    "flag = True \n",
    "TIME = []\n",
    "counts = []\n",
    "\n",
    "while flag: \n",
    "    x = np.linspace(-1, 1, N)\n",
    "    counts.append(N)\n",
    "    start = time.time()\n",
    "    integral = 0\n",
    "    for i in range(1, N):\n",
    "        integral +=  function(x[i])\n",
    "\n",
    "    print(integral * 2 / N)\n",
    "    end = time.time()\n",
    "    \n",
    "    N *= 10 #aumento di un ordine di grandezza per volta \n",
    "    \n",
    "    if end - start > 1:\n",
    "        flag = False \n",
    "    \n",
    "    TIME.append(end - start)\n",
    "    \n",
    "print(end - start,'s', N)\n",
    "plt.plot(counts, TIME)\n",
    "plt.xlabel('Number of samples')\n",
    "plt.ylabel('Computational time')\n",
    "plt.show()"
   ]
  },
  {
   "cell_type": "code",
   "execution_count": null,
   "metadata": {},
   "outputs": [],
   "source": []
  }
 ],
 "metadata": {
  "kernelspec": {
   "display_name": "Python 3 (ipykernel)",
   "language": "python",
   "name": "python3"
  },
  "language_info": {
   "codemirror_mode": {
    "name": "ipython",
    "version": 3
   },
   "file_extension": ".py",
   "mimetype": "text/x-python",
   "name": "python",
   "nbconvert_exporter": "python",
   "pygments_lexer": "ipython3",
   "version": "3.10.9"
  }
 },
 "nbformat": 4,
 "nbformat_minor": 2
}
