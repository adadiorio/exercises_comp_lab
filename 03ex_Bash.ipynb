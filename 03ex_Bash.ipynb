{
 "cells": [
  {
   "cell_type": "markdown",
   "id": "b5746bd0",
   "metadata": {},
   "source": [
    "The following exercises are meant to be solved by gathering the bash commands incrimentally in two scripts, one for ex 1.* the other for ex 2.* "
   ]
  },
  {
   "cell_type": "markdown",
   "id": "4e60de78",
   "metadata": {},
   "source": [
    "### Ex 1"
   ]
  },
  {
   "cell_type": "markdown",
   "id": "6759df36",
   "metadata": {},
   "source": [
    "1\\.a Make a new directory called `students` in your home. Download a csv file with the list of students of this lab from [here](https://www.dropbox.com/s/867rtx3az6e9gm8/LCP_22-23_students.csv) (use the `wget` command) and copy that to `students`. First check whether the file is already there"
   ]
  },
  {
   "cell_type": "code",
   "execution_count": 1,
   "id": "1e8f9058",
   "metadata": {},
   "outputs": [
    {
     "name": "stdout",
     "output_type": "stream",
     "text": [
      "/home/adadiorio\n"
     ]
    },
    {
     "name": "stderr",
     "output_type": "stream",
     "text": [
      "mkdir: cannot create directory ‘students2’: File exists\n",
      "--2024-01-17 15:32:17--  https://www.dropbox.com/s/867rtx3az6e9gm8/LCP_22-23_students.csv\n",
      "Resolving www.dropbox.com (www.dropbox.com)... 162.125.69.18, 198.51.44.6, 198.51.45.6, ...\n",
      "Connecting to www.dropbox.com (www.dropbox.com)|162.125.69.18|:443... connected.\n",
      "HTTP request sent, awaiting response... 302 Found\n",
      "Location: /s/raw/867rtx3az6e9gm8/LCP_22-23_students.csv [following]\n",
      "--2024-01-17 15:32:17--  https://www.dropbox.com/s/raw/867rtx3az6e9gm8/LCP_22-23_students.csv\n",
      "Reusing existing connection to www.dropbox.com:443.\n",
      "HTTP request sent, awaiting response... 302 Found\n",
      "Location: https://ucd5bc2f5d8188b03a695bc2b80f.dl.dropboxusercontent.com/cd/0/inline/CLhCEHKbF5Q4G9Z-hinR-AEhhXZupbM6D-lAmYrbNgei7zp7RLdyFGDC77mzX4FcVqD_ogS19gCxztTB2M6j99v5ZYaNBi3HI4-WYWD0YtYqSZXtK8gAnMZpM1MEVy4dNIE/file# [following]\n",
      "--2024-01-17 15:32:18--  https://ucd5bc2f5d8188b03a695bc2b80f.dl.dropboxusercontent.com/cd/0/inline/CLhCEHKbF5Q4G9Z-hinR-AEhhXZupbM6D-lAmYrbNgei7zp7RLdyFGDC77mzX4FcVqD_ogS19gCxztTB2M6j99v5ZYaNBi3HI4-WYWD0YtYqSZXtK8gAnMZpM1MEVy4dNIE/file\n",
      "Resolving ucd5bc2f5d8188b03a695bc2b80f.dl.dropboxusercontent.com (ucd5bc2f5d8188b03a695bc2b80f.dl.dropboxusercontent.com)... 162.125.69.15, 198.51.44.6, 198.51.45.6, ...\n",
      "Connecting to ucd5bc2f5d8188b03a695bc2b80f.dl.dropboxusercontent.com (ucd5bc2f5d8188b03a695bc2b80f.dl.dropboxusercontent.com)|162.125.69.15|:443... connected.\n",
      "HTTP request sent, awaiting response... 200 OK\n",
      "Length: 4405 (4.3K) [text/plain]\n",
      "Saving to: ‘LCP_22-23_students.csv’\n",
      "\n",
      "     0K ....                                                  100%  139M=0s\n",
      "\n",
      "2024-01-17 15:32:18 (139 MB/s) - ‘LCP_22-23_students.csv’ saved [4405/4405]\n",
      "\n"
     ]
    },
    {
     "name": "stdout",
     "output_type": "stream",
     "text": [
      "LCP_22-23_students.csv\n",
      "WIN32-VC17.7.6-10.zip:SmartScreen\n",
      "WIN32-VC17.7.6-10.zip:Zone.Identifier\n",
      "data.txt\n",
      "data_divided_by_1.txt\n",
      "data_divided_by_2.txt\n",
      "data_divided_by_3.txt\n",
      "data_divided_by_4.txt\n",
      "data_divided_by_5.txt\n",
      "divide_data.sh\n",
      "file.txt\n",
      "geant4-v11.2.0\n",
      "new_script\n",
      "new_students\n",
      "prova\n",
      "script_prova\n",
      "students\n",
      "students2\n"
     ]
    }
   ],
   "source": [
    "%%bash \n",
    "cd\n",
    "pwd\n",
    "mkdir students2\n",
    "wget https://www.dropbox.com/s/867rtx3az6e9gm8/LCP_22-23_students.csv\n",
    "ls\n",
    "cp LCP_22-23_students.csv /home/adadiorio/students2/"
   ]
  },
  {
   "cell_type": "code",
   "execution_count": 2,
   "id": "fbb365f2",
   "metadata": {},
   "outputs": [
    {
     "name": "stdout",
     "output_type": "stream",
     "text": [
      "LCP_22-23_students.csv\n",
      "Physics_students\n",
      "PoD_students\n",
      "group_0_to_.csv\n",
      "group_20_to_36.csv\n",
      "group_2_to_18.csv\n",
      "group_38_to_54.csv\n",
      "group_56_to_72.csv\n"
     ]
    }
   ],
   "source": [
    "%%bash\n",
    "cd\n",
    "ls students2"
   ]
  },
  {
   "cell_type": "markdown",
   "id": "798c0c9d",
   "metadata": {},
   "source": [
    "1\\.b Make two new files, one containing the students belonging to PoD, the other to Physics."
   ]
  },
  {
   "cell_type": "code",
   "execution_count": 3,
   "id": "48380a0a",
   "metadata": {},
   "outputs": [
    {
     "name": "stdout",
     "output_type": "stream",
     "text": [
      "Family name(s),Given name(s),E-mail,Master program\n",
      "Akkara,Jelin Raphael,jelinraphael.akkara@studenti.unipd.it,PoD\n",
      "Altamirano,Davide,davidalejandro.altamiranocoello@studenti.unipd.it,PoD\n",
      "Badami,Hessan,mohammadhessan.badami@studenti.unipd.it,PoD\n",
      "Baghaei Saryazdi,Fateme,fateme.baghaeisaryazdi@studenti.unipd.it,PoD\n",
      "Barbiero,Lorenzo,lorenzo.barbiero.1@studenti.unipd.it,PoD\n",
      "Bedin,Veronica,veronica.bedin.1@studenti.unipd.it,PoD\n",
      "Benito,Guillermo,guillermo.benitocalvino@studenti.unipd.it,PoD\n",
      "Bertininelli,Gabriele,gabriele.bertinelli@studenti.unipd.it,PoD\n",
      "Bertola,Tommaso,tommaso.bertola@studenti.unipd.it,PoD\n",
      "Bhatti,Roben,roben.bhatti@studenti.unipd.it,PoD\n",
      "Bonato,Diego,diego.bonato.1@studenti.unipd.it,PoD\n",
      "Bordin,Guglielmo,guglielmo.bordin@studenti.unipd.it,PoD\n",
      "Breccia,Alessandro,alessandro.breccia@studenti.unipd.it,PoD\n",
      "Brisigotti,Erica,10698739@unipd.it / ericabrisigotti@gmail.com,PoD\n",
      "Bucalo,Edoardo,edoardorenato.bucalo@studenti.unipd.it,Physics\n",
      "Checchia,Davide,davide.checchia@studenti.unipd.it,PoD\n",
      "Chiloiro,Marco,marco.chiloiro@studenti.unipd.it,PoD\n",
      "Chueva,Ekaterina ,ekaterina.chueva@studenti.unipd.it,PoD\n",
      "Dall'Ara ,Marco ,marco.dallara.1@studenti.unipd.it,PoD\n",
      "Davide,Bacilieri,davide.bacilieri@studenti.unipd.it,PoD\n",
      "De Vita,Andrea,andrea.devita.1@studenti.unipd.it,PoD\n",
      "Di Prima,Giacomo,giacomo.diprima@studenti.unipd.it,PoD\n",
      "Divari,Carlo,carlo.divari@studenti.unipd.it,PoD\n",
      "Dodampe Gamage,Eran,erankawinda.dodampegamage@studenti.unipd.it,PoD\n",
      "Eslami shafigh,Ehsan,ehsan.eslamishafigh@studenti.unipd.it,PoD\n",
      "Fedon Vocaturo,Marina,marina.fedonvocaturo@studenti.unipd.it,Physics\n",
      "Feltrin,Antonio,antonio.feltrin@studenti.unipd.it,PoD\n",
      "Forza,Camilla,camilla.forza@studenti.unipd.it,Physics\n",
      "Garbo ,Anna,anna.garbo.2@studenti.unipd.it,PoD\n",
      "Ghaemifar,Sepideh,sepideh.ghaemifar@studenti.unipd.it,PoD\n",
      "Golan,Rodrigo,rodrigo.golan@studenti.unipd.it,PoD\n",
      "Guercio,Tommaso,tommaso.guercio@studenti.unipd.it,PoD\n",
      "Hatamjahromi,Roozbeh,Roozbeh.hatam1377@gmail.com  /   10675931@unipd.it,PoD\n",
      "Isotton,Gloria,gloria.isotton@studenti.unipd.it,PoD\n",
      "Javid,Kiamehr,kiamehr.javid@studenti.unipd.it,PoD\n",
      "Kumar,Prince,prince.kumar@studenti.unipd.it,PoD\n",
      "La Delfa ,Niccolò ,niccolo.ladelfa@studenti.unipd.it,PoD\n",
      "Lui,Riccardo ,riccardo.lui@studenti.unipd.it,PoD\n",
      "Lupi,Enrico,enrico.lupi@studenti.unipd.it,PoD\n",
      "Marchetti,Andrea,andrea.marchetti.5@studenti.unipd.it,PoD\n",
      "Mengoni,Leon,leon.mengoni@studenti.unipd.it,PoD\n",
      "Menti,Luca,luca.menti@studenti.unipd.it,PoD\n",
      "Merlin,Giovanni,giovanni.merlin@studenti.unipd.it,PoD\n",
      "Meza,Stefano,stefanorafael.mezaanzules@studenti.unipd.it,PoD\n",
      "Miranda,Manfredi,manfredi.miranda@studenti.unipd.it,PoD\n",
      "Munafò,Sara,sara.munafo@studenti.unipd.it,PoD\n",
      "Pacheco,Sofia,sofia.pachecogarcia@studenti.unipd.it,PoD\n",
      "Panagiotakis,Konstantinos,konstantinos.panagiotakis@studenti.unipd.it,POD\n",
      "Pasian,Francisco,franciscoariel.pasian@studenti.unipd.it,PoD\n",
      "Peter,Maximilian,10705165@unipd.it / soon: maximilian.peter@studenti.unipd.it,PoD\n",
      "Pitteri,Alessio,alessio.pitteri@studenti.unipd.it,PoD\n",
      "Pra Floriani,Filippo,filippo.prafloriani@studenti.unipd.it,PoD\n",
      "Rostami,Amirhossein,amirhossein.rostami@studenti.unipd.it,PoD\n",
      "Ruffini,Federico,federico.ruffini.1@studenti.unipd.it,Physics\n",
      "Saccomani,Alessio,alessio.saccomani@studenti.unipd.it,PoD\n",
      "Sahputra,Nadillia,nadillia.sahputra@studenti.unipd.it,PoD\n",
      "Sapkas,Michail,michail.sapkas@studenti.unipd.it,PoD\n",
      "Saran Gattorno,Giancarlo,giancarlo.sarangattorno@studenti.unipd.it,PoD\n",
      "Sardo Infirri,Giosuè,giosue.sardoinfirri@studenti.unipd.it,PoD\n",
      "Saretto,Saretto,alberto.saretto.1@studenti.unipd.it,Physics\n",
      "Sarte,Emanuele,emanuele.sarte@studenti.unipd.it,PoD\n",
      "Tancredi ,Riccardo ,riccardo.tancredi@studenti.unipd.it,PoD\n",
      "Toso,Simone,simone.toso.2@studenti.unipd.it,PoD\n",
      "Vatankhahan,Mahdy,mahdy.vatankhahan@studenti.unipd.it,PoD\n",
      "Verguizas I Moliner,Joan,joan.verguizasimoliner@studenti.unipd.it,PoD\n",
      "Viterbo,Giuseppe,giuseppe.viterbo@studenti.unipd.it,PoD\n",
      "Waththe Liyanage,Wageesha Widuranga,wageeshawiduranga.waththeliyanage@studenti.unipd.it,PoD\n",
      "Wickramasinghe Mudiyanselage,Poornima Amali Wickramasinghe,poornimaamaliwickramasinghe.wickramasinghemudiyanselage@studenti.unipd.it,PoD\n",
      "Zago,Giovanni,giovanni.zago.2@studenti.unipd.it,PoD\n",
      "Zal,Abbas,abbas.zal@studenti.unipd.it,PoD\n",
      "Zane,Francesco,francesco.zane.1@studenti.unipd.it,PoD\n",
      "Zenari,Marco,marco.zenari@studenti.unipd.it,PoD\n",
      "Zhang,Qiqi,qiqi.zhang@studenti.unipd.it,PoDLCP_22-23_students.csv\n",
      "Physics_students\n",
      "PoD_students\n",
      "group_0_to_.csv\n",
      "group_20_to_36.csv\n",
      "group_2_to_18.csv\n",
      "group_38_to_54.csv\n",
      "group_56_to_72.csv\n"
     ]
    }
   ],
   "source": [
    "%%bash \n",
    "cd \n",
    "cd students2\n",
    "cat LCP_22-23_students.csv\n",
    "grep 'PoD' LCP_22-23_students.csv > PoD_students\n",
    "grep 'Physics' LCP_22-23_students.csv > Physics_students\n",
    "ls"
   ]
  },
  {
   "cell_type": "markdown",
   "id": "8a43d622",
   "metadata": {},
   "source": [
    "1\\.c For each letter of the alphabet, count the number of students whose surname starts with that letter. "
   ]
  },
  {
   "cell_type": "code",
   "execution_count": 4,
   "id": "8cd30218",
   "metadata": {},
   "outputs": [
    {
     "name": "stdout",
     "output_type": "stream",
     "text": [
      "LCP_22-23_students.csv\n",
      "Physics_students\n",
      "PoD_students\n",
      "group_0_to_.csv\n"
     ]
    },
    {
     "name": "stderr",
     "output_type": "stream",
     "text": [
      "-bash: line 4: column_number: command not found\n"
     ]
    },
    {
     "name": "stdout",
     "output_type": "stream",
     "text": [
      "      2 a\n",
      "     13 b\n",
      "      3 c\n",
      "      6 d\n",
      "      1 e\n",
      "      4 f\n",
      "      4 g\n",
      "      1 h\n",
      "      1 i\n",
      "      1 j\n",
      "      1 k\n",
      "      3 l\n",
      "      7 m\n",
      "      6 p\n",
      "      2 r\n",
      "      7 s\n",
      "      2 t\n",
      "      3 v\n",
      "      2 w\n",
      "      5 z\n"
     ]
    }
   ],
   "source": [
    "%%bash \n",
    "cd \n",
    "cd students2\n",
    "ls\n",
    "column_number = 1\n",
    "\n",
    "awk -F, '{print substr($'column_number', 1, 1)}' LCP_22-23_students.csv | tr '[:upper:]' '[:lower:]' | grep -o '[a-z]' | sort | uniq -c\n",
    "#-F si usa per specificare il separatore di campo in questo caso che è , | convertiamo tutti i caratteri da maiuscolo a minuscolo \n",
    "#| prendiamo soltanto la riga che soddisfa i criteri di ricerca \n"
   ]
  },
  {
   "cell_type": "markdown",
   "id": "4ba6bc90",
   "metadata": {},
   "source": [
    "1\\.d Find out which is the letter with most counts."
   ]
  },
  {
   "cell_type": "markdown",
   "id": "086a043c",
   "metadata": {},
   "source": [
    "1\\.e Assume an obvious numbering of the students in the file (first line is 1, second line is 2, etc.), group students \"modulo 18\", i.e. 1,19,37,.. 2,20,38,.. etc. and put each group in a separate file  "
   ]
  },
  {
   "cell_type": "code",
   "execution_count": 1,
   "id": "e262173d",
   "metadata": {},
   "outputs": [
    {
     "name": "stdout",
     "output_type": "stream",
     "text": [
      "/home/adadiorio/students2\n",
      "LCP_22-23_students.csv\n",
      "Physics_students\n",
      "PoD_students\n",
      "group_0_to_.csv\n"
     ]
    }
   ],
   "source": [
    "%%bash \n",
    "cd \n",
    "cd students2\n",
    "pwd\n",
    "ls\n",
    "\n",
    "start_number=1\n",
    "group_size=18\n",
    "\n",
    "total_lines=$(wc -l < LCP_22-23_students.csv)\n",
    "\n",
    "for (( i=$start_number+1; i<=$total_lines; i+=$group_size )); do\n",
    "    end=$(( i + group_size - 2 ))\n",
    "    sed -n \"${i},${end}p\" LCP_22-23_students.csv > group_${i}_to_${end}.csv\n",
    "done\n",
    "\n",
    "#ha una sintassi troppo complicata è un casino cercare di impararlo "
   ]
  },
  {
   "cell_type": "code",
   "execution_count": null,
   "id": "1b7e5a93",
   "metadata": {},
   "outputs": [],
   "source": []
  },
  {
   "cell_type": "markdown",
   "id": "1d730d21",
   "metadata": {},
   "source": [
    "### Ex 2"
   ]
  },
  {
   "cell_type": "markdown",
   "id": "4b87ecb7",
   "metadata": {},
   "source": [
    "2.a Make a copy of the file `data.csv` removing the metadata and the commas between numbers; call it `data.txt`"
   ]
  },
  {
   "cell_type": "code",
   "execution_count": null,
   "id": "3aa92c98",
   "metadata": {},
   "outputs": [],
   "source": [
    "%%bash \n",
    "ls\n",
    "grep -v \"^#\" data.csv | sed 's/,//g' > data.txt"
   ]
  },
  {
   "cell_type": "markdown",
   "id": "344048c8",
   "metadata": {},
   "source": [
    "2\\.b How many even numbers are there?"
   ]
  },
  {
   "cell_type": "code",
   "execution_count": null,
   "id": "5fc4c167",
   "metadata": {},
   "outputs": [],
   "source": [
    "awk '{for(i=1;i<=NF;i++) if($i%2==0) count++} END{print count}' data.txt\n"
   ]
  },
  {
   "cell_type": "markdown",
   "id": "2a27138d",
   "metadata": {},
   "source": [
    "2\\.c Distinguish the entries on the basis of `sqrt(X^2 + Y^2 + Z^2)` is greater or smaller than `100*sqrt(3)/2`. Count the entries of each of the two groups "
   ]
  },
  {
   "cell_type": "markdown",
   "id": "e937ef4e",
   "metadata": {},
   "source": [
    "2\\.d Make `n` copies of data.txt (with `n` an input parameter of the script), where the i-th copy has all the numbers divided by i (with `1<=i<=n`)."
   ]
  },
  {
   "cell_type": "code",
   "execution_count": null,
   "id": "77bdc6f0",
   "metadata": {},
   "outputs": [],
   "source": []
  }
 ],
 "metadata": {
  "kernelspec": {
   "display_name": "Python 3 (ipykernel)",
   "language": "python",
   "name": "python3"
  },
  "language_info": {
   "codemirror_mode": {
    "name": "ipython",
    "version": 3
   },
   "file_extension": ".py",
   "mimetype": "text/x-python",
   "name": "python",
   "nbconvert_exporter": "python",
   "pygments_lexer": "ipython3",
   "version": "3.10.9"
  }
 },
 "nbformat": 4,
 "nbformat_minor": 5
}
